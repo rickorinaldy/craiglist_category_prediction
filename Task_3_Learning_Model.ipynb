{
  "cells": [
    {
      "cell_type": "markdown",
      "metadata": {
        "id": "peyT00jiKzYZ"
      },
      "source": [
        "# Data Scientist - Task 3\n",
        "### Ricko Rinaldy\n",
        "\n",
        "### 23 March 2024"
      ]
    },
    {
      "cell_type": "markdown",
      "metadata": {
        "id": "3QUVab4GKzYb"
      },
      "source": [
        "## 1. Import Module & Package"
      ]
    },
    {
      "cell_type": "code",
      "execution_count": 2,
      "metadata": {
        "colab": {
          "base_uri": "https://localhost:8080/"
        },
        "id": "LlUfdIccKzYb",
        "outputId": "4cb2fc50-fe38-4057-a64d-2392657412f5"
      },
      "outputs": [
        {
          "name": "stderr",
          "output_type": "stream",
          "text": [
            "[nltk_data] Downloading package stopwords to\n",
            "[nltk_data]     C:\\Users\\ICRAVER\\AppData\\Roaming\\nltk_data...\n",
            "[nltk_data]   Package stopwords is already up-to-date!\n",
            "[nltk_data] Downloading package wordnet to\n",
            "[nltk_data]     C:\\Users\\ICRAVER\\AppData\\Roaming\\nltk_data...\n",
            "[nltk_data]   Package wordnet is already up-to-date!\n"
          ]
        },
        {
          "data": {
            "text/plain": [
              "True"
            ]
          },
          "execution_count": 2,
          "metadata": {},
          "output_type": "execute_result"
        }
      ],
      "source": [
        "import re\n",
        "import nltk\n",
        "import json\n",
        "import pickle\n",
        "import numpy as np\n",
        "import pandas as pd\n",
        "import matplotlib.pyplot as plt\n",
        "\n",
        "from collections import Counter\n",
        "from wordcloud import WordCloud\n",
        "\n",
        "import tensorflow as tf\n",
        "from keras.callbacks import ReduceLROnPlateau\n",
        "from tensorflow.python.keras.callbacks import ModelCheckpoint, EarlyStopping\n",
        "\n",
        "from nltk.corpus import stopwords\n",
        "from nltk.stem import WordNetLemmatizer\n",
        "\n",
        "from imblearn.combine import SMOTEENN, SMOTETomek\n",
        "from sklearn.ensemble import RandomForestClassifier\n",
        "from sklearn.model_selection import train_test_split\n",
        "from sklearn.feature_extraction.text import TfidfVectorizer\n",
        "from sklearn.preprocessing import OneHotEncoder, LabelEncoder\n",
        "from sklearn.metrics import accuracy_score, classification_report\n",
        "from sklearn.model_selection import StratifiedKFold, cross_val_score\n",
        "\n",
        "\n",
        "nltk.download(\"stopwords\")\n",
        "nltk.download('wordnet')"
      ]
    },
    {
      "cell_type": "markdown",
      "metadata": {
        "id": "a82YEJEAKzYd"
      },
      "source": [
        "## 2. Data Preprocessing"
      ]
    },
    {
      "cell_type": "markdown",
      "metadata": {
        "id": "IKonvZGoKzYd"
      },
      "source": [
        "### 2.1 Data Load"
      ]
    },
    {
      "cell_type": "code",
      "execution_count": 3,
      "metadata": {
        "id": "XO7N5WOMKzYd"
      },
      "outputs": [],
      "source": [
        "with open(\"data/training.json\") as t:\n",
        "    string_json_list = t.read().split(\"\\n\")\n",
        "\n",
        "json_list = [json.loads(train_json) for train_json in string_json_list[1:] if len(train_json)>10]\n",
        "train_data = pd.DataFrame(json_list)"
      ]
    },
    {
      "cell_type": "code",
      "execution_count": 4,
      "metadata": {
        "colab": {
          "base_uri": "https://localhost:8080/",
          "height": 206
        },
        "id": "4X2cSNz6KzYd",
        "outputId": "329ada89-0934-4d88-d14e-06b0042e3641"
      },
      "outputs": [
        {
          "data": {
            "text/html": [
              "<div>\n",
              "<style scoped>\n",
              "    .dataframe tbody tr th:only-of-type {\n",
              "        vertical-align: middle;\n",
              "    }\n",
              "\n",
              "    .dataframe tbody tr th {\n",
              "        vertical-align: top;\n",
              "    }\n",
              "\n",
              "    .dataframe thead th {\n",
              "        text-align: right;\n",
              "    }\n",
              "</style>\n",
              "<table border=\"1\" class=\"dataframe\">\n",
              "  <thead>\n",
              "    <tr style=\"text-align: right;\">\n",
              "      <th></th>\n",
              "      <th>city</th>\n",
              "      <th>category</th>\n",
              "      <th>section</th>\n",
              "      <th>heading</th>\n",
              "    </tr>\n",
              "  </thead>\n",
              "  <tbody>\n",
              "    <tr>\n",
              "      <th>0</th>\n",
              "      <td>newyork</td>\n",
              "      <td>cell-phones</td>\n",
              "      <td>for-sale</td>\n",
              "      <td>New batteries C-S2 for Blackberry 7100/7130/87...</td>\n",
              "    </tr>\n",
              "    <tr>\n",
              "      <th>1</th>\n",
              "      <td>newyork</td>\n",
              "      <td>cell-phones</td>\n",
              "      <td>for-sale</td>\n",
              "      <td>*******   Brand New Original SAMSUNG GALAXY NO...</td>\n",
              "    </tr>\n",
              "    <tr>\n",
              "      <th>2</th>\n",
              "      <td>newyork</td>\n",
              "      <td>cell-phones</td>\n",
              "      <td>for-sale</td>\n",
              "      <td>SAMSUNG GALAXY SIII T-999 MARBLE WHITE T-MOBIL...</td>\n",
              "    </tr>\n",
              "    <tr>\n",
              "      <th>3</th>\n",
              "      <td>newyork</td>\n",
              "      <td>cell-phones</td>\n",
              "      <td>for-sale</td>\n",
              "      <td>Ipad mini 64gb 4g any sim unlock</td>\n",
              "    </tr>\n",
              "    <tr>\n",
              "      <th>4</th>\n",
              "      <td>newyork</td>\n",
              "      <td>cell-phones</td>\n",
              "      <td>for-sale</td>\n",
              "      <td>htc evo 4g lte for trade</td>\n",
              "    </tr>\n",
              "  </tbody>\n",
              "</table>\n",
              "</div>"
            ],
            "text/plain": [
              "      city     category   section  \\\n",
              "0  newyork  cell-phones  for-sale   \n",
              "1  newyork  cell-phones  for-sale   \n",
              "2  newyork  cell-phones  for-sale   \n",
              "3  newyork  cell-phones  for-sale   \n",
              "4  newyork  cell-phones  for-sale   \n",
              "\n",
              "                                             heading  \n",
              "0  New batteries C-S2 for Blackberry 7100/7130/87...  \n",
              "1  *******   Brand New Original SAMSUNG GALAXY NO...  \n",
              "2  SAMSUNG GALAXY SIII T-999 MARBLE WHITE T-MOBIL...  \n",
              "3                  Ipad mini 64gb 4g any sim unlock   \n",
              "4                           htc evo 4g lte for trade  "
            ]
          },
          "execution_count": 4,
          "metadata": {},
          "output_type": "execute_result"
        }
      ],
      "source": [
        "df = train_data.copy()\n",
        "df.head()"
      ]
    },
    {
      "cell_type": "code",
      "execution_count": 5,
      "metadata": {
        "id": "4PYctIHmKzYe"
      },
      "outputs": [],
      "source": [
        "with open(\"data/sample-test.in.json\", encoding=\"utf8\") as t:\n",
        "    string_json_list = t.read().split(\"\\n\")\n",
        "\n",
        "json_list = [json.loads(train_json) for train_json in string_json_list[1:] if len(train_json)>10]\n",
        "test_data = pd.DataFrame(json_list)"
      ]
    },
    {
      "cell_type": "code",
      "execution_count": 6,
      "metadata": {
        "colab": {
          "base_uri": "https://localhost:8080/",
          "height": 206
        },
        "id": "M9XSjWXLKzYe",
        "outputId": "fcfc7c85-6f0c-4dd9-aced-3be49ced743e"
      },
      "outputs": [
        {
          "data": {
            "text/html": [
              "<div>\n",
              "<style scoped>\n",
              "    .dataframe tbody tr th:only-of-type {\n",
              "        vertical-align: middle;\n",
              "    }\n",
              "\n",
              "    .dataframe tbody tr th {\n",
              "        vertical-align: top;\n",
              "    }\n",
              "\n",
              "    .dataframe thead th {\n",
              "        text-align: right;\n",
              "    }\n",
              "</style>\n",
              "<table border=\"1\" class=\"dataframe\">\n",
              "  <thead>\n",
              "    <tr style=\"text-align: right;\">\n",
              "      <th></th>\n",
              "      <th>city</th>\n",
              "      <th>section</th>\n",
              "      <th>heading</th>\n",
              "    </tr>\n",
              "  </thead>\n",
              "  <tbody>\n",
              "    <tr>\n",
              "      <th>0</th>\n",
              "      <td>chicago</td>\n",
              "      <td>for-sale</td>\n",
              "      <td>Madden NFL 25 XBOX 360. Brand New!</td>\n",
              "    </tr>\n",
              "    <tr>\n",
              "      <th>1</th>\n",
              "      <td>paris.en</td>\n",
              "      <td>housing</td>\n",
              "      <td>looking for room to rent.</td>\n",
              "    </tr>\n",
              "    <tr>\n",
              "      <th>2</th>\n",
              "      <td>newyork</td>\n",
              "      <td>for-sale</td>\n",
              "      <td>two DS game</td>\n",
              "    </tr>\n",
              "    <tr>\n",
              "      <th>3</th>\n",
              "      <td>seattle</td>\n",
              "      <td>housing</td>\n",
              "      <td>map</td>\n",
              "    </tr>\n",
              "    <tr>\n",
              "      <th>4</th>\n",
              "      <td>singapore</td>\n",
              "      <td>services</td>\n",
              "      <td>Good Looking Asian Sensation N aughty Girl ---...</td>\n",
              "    </tr>\n",
              "  </tbody>\n",
              "</table>\n",
              "</div>"
            ],
            "text/plain": [
              "        city   section                                            heading\n",
              "0    chicago  for-sale                 Madden NFL 25 XBOX 360. Brand New!\n",
              "1   paris.en   housing                          looking for room to rent.\n",
              "2    newyork  for-sale                                        two DS game\n",
              "3    seattle   housing                                                map\n",
              "4  singapore  services  Good Looking Asian Sensation N aughty Girl ---..."
            ]
          },
          "execution_count": 6,
          "metadata": {},
          "output_type": "execute_result"
        }
      ],
      "source": [
        "test_data.head()"
      ]
    },
    {
      "cell_type": "markdown",
      "metadata": {
        "id": "BCiSf-ZDKzYe"
      },
      "source": [
        "### 2.2 Text Preprocessing"
      ]
    },
    {
      "cell_type": "code",
      "execution_count": 7,
      "metadata": {
        "id": "HUs5OXVPKzYe"
      },
      "outputs": [],
      "source": [
        "def text_preprocessing(ds: pd.Series) -> pd.Series:\n",
        "    for m in range(len(ds)):\n",
        "\n",
        "        main_words = re.sub('[^a-zA-Z]', ' ', ds[m])\n",
        "        main_words = (main_words.lower()).split()\n",
        "        main_words = [w for w in main_words if not w in set(stopwords.words('english'))]\n",
        "\n",
        "        lem = WordNetLemmatizer()\n",
        "        main_words = [lem.lemmatize(w) for w in main_words if len(w) > 1]\n",
        "\n",
        "        main_words = ' '.join(main_words)\n",
        "        ds[m] = main_words\n",
        "\n",
        "    return ds"
      ]
    },
    {
      "cell_type": "code",
      "execution_count": 8,
      "metadata": {
        "colab": {
          "base_uri": "https://localhost:8080/",
          "height": 206
        },
        "id": "Org76xneKzYe",
        "outputId": "fe7042bd-01b5-4ab4-ffb9-ab1f615d61aa"
      },
      "outputs": [
        {
          "data": {
            "text/html": [
              "<div>\n",
              "<style scoped>\n",
              "    .dataframe tbody tr th:only-of-type {\n",
              "        vertical-align: middle;\n",
              "    }\n",
              "\n",
              "    .dataframe tbody tr th {\n",
              "        vertical-align: top;\n",
              "    }\n",
              "\n",
              "    .dataframe thead th {\n",
              "        text-align: right;\n",
              "    }\n",
              "</style>\n",
              "<table border=\"1\" class=\"dataframe\">\n",
              "  <thead>\n",
              "    <tr style=\"text-align: right;\">\n",
              "      <th></th>\n",
              "      <th>city</th>\n",
              "      <th>category</th>\n",
              "      <th>section</th>\n",
              "      <th>heading</th>\n",
              "    </tr>\n",
              "  </thead>\n",
              "  <tbody>\n",
              "    <tr>\n",
              "      <th>0</th>\n",
              "      <td>newyork</td>\n",
              "      <td>cell-phones</td>\n",
              "      <td>for-sale</td>\n",
              "      <td>new battery blackberry curve pearl</td>\n",
              "    </tr>\n",
              "    <tr>\n",
              "      <th>1</th>\n",
              "      <td>newyork</td>\n",
              "      <td>cell-phones</td>\n",
              "      <td>for-sale</td>\n",
              "      <td>brand new original samsung galaxy note battery</td>\n",
              "    </tr>\n",
              "    <tr>\n",
              "      <th>2</th>\n",
              "      <td>newyork</td>\n",
              "      <td>cell-phones</td>\n",
              "      <td>for-sale</td>\n",
              "      <td>samsung galaxy siii marble white mobile smartp...</td>\n",
              "    </tr>\n",
              "    <tr>\n",
              "      <th>3</th>\n",
              "      <td>newyork</td>\n",
              "      <td>cell-phones</td>\n",
              "      <td>for-sale</td>\n",
              "      <td>ipad mini gb sim unlock</td>\n",
              "    </tr>\n",
              "    <tr>\n",
              "      <th>4</th>\n",
              "      <td>newyork</td>\n",
              "      <td>cell-phones</td>\n",
              "      <td>for-sale</td>\n",
              "      <td>htc evo lte trade</td>\n",
              "    </tr>\n",
              "  </tbody>\n",
              "</table>\n",
              "</div>"
            ],
            "text/plain": [
              "      city     category   section  \\\n",
              "0  newyork  cell-phones  for-sale   \n",
              "1  newyork  cell-phones  for-sale   \n",
              "2  newyork  cell-phones  for-sale   \n",
              "3  newyork  cell-phones  for-sale   \n",
              "4  newyork  cell-phones  for-sale   \n",
              "\n",
              "                                             heading  \n",
              "0                 new battery blackberry curve pearl  \n",
              "1     brand new original samsung galaxy note battery  \n",
              "2  samsung galaxy siii marble white mobile smartp...  \n",
              "3                            ipad mini gb sim unlock  \n",
              "4                                  htc evo lte trade  "
            ]
          },
          "execution_count": 8,
          "metadata": {},
          "output_type": "execute_result"
        }
      ],
      "source": [
        "df[\"heading\"] = text_preprocessing(df[\"heading\"])\n",
        "df.head()"
      ]
    },
    {
      "cell_type": "code",
      "execution_count": 9,
      "metadata": {
        "colab": {
          "base_uri": "https://localhost:8080/",
          "height": 206
        },
        "id": "eSJBRyfWKzYf",
        "outputId": "86e82fb8-0242-4a23-e7e4-993f9c415023"
      },
      "outputs": [
        {
          "data": {
            "text/html": [
              "<div>\n",
              "<style scoped>\n",
              "    .dataframe tbody tr th:only-of-type {\n",
              "        vertical-align: middle;\n",
              "    }\n",
              "\n",
              "    .dataframe tbody tr th {\n",
              "        vertical-align: top;\n",
              "    }\n",
              "\n",
              "    .dataframe thead th {\n",
              "        text-align: right;\n",
              "    }\n",
              "</style>\n",
              "<table border=\"1\" class=\"dataframe\">\n",
              "  <thead>\n",
              "    <tr style=\"text-align: right;\">\n",
              "      <th></th>\n",
              "      <th>city</th>\n",
              "      <th>section</th>\n",
              "      <th>heading</th>\n",
              "    </tr>\n",
              "  </thead>\n",
              "  <tbody>\n",
              "    <tr>\n",
              "      <th>0</th>\n",
              "      <td>chicago</td>\n",
              "      <td>for-sale</td>\n",
              "      <td>madden nfl xbox brand new</td>\n",
              "    </tr>\n",
              "    <tr>\n",
              "      <th>1</th>\n",
              "      <td>paris.en</td>\n",
              "      <td>housing</td>\n",
              "      <td>looking room rent</td>\n",
              "    </tr>\n",
              "    <tr>\n",
              "      <th>2</th>\n",
              "      <td>newyork</td>\n",
              "      <td>for-sale</td>\n",
              "      <td>two d game</td>\n",
              "    </tr>\n",
              "    <tr>\n",
              "      <th>3</th>\n",
              "      <td>seattle</td>\n",
              "      <td>housing</td>\n",
              "      <td>map</td>\n",
              "    </tr>\n",
              "    <tr>\n",
              "      <th>4</th>\n",
              "      <td>singapore</td>\n",
              "      <td>services</td>\n",
              "      <td>good looking asian sensation aughty girl indep...</td>\n",
              "    </tr>\n",
              "  </tbody>\n",
              "</table>\n",
              "</div>"
            ],
            "text/plain": [
              "        city   section                                            heading\n",
              "0    chicago  for-sale                          madden nfl xbox brand new\n",
              "1   paris.en   housing                                  looking room rent\n",
              "2    newyork  for-sale                                         two d game\n",
              "3    seattle   housing                                                map\n",
              "4  singapore  services  good looking asian sensation aughty girl indep..."
            ]
          },
          "execution_count": 9,
          "metadata": {},
          "output_type": "execute_result"
        }
      ],
      "source": [
        "test_data[\"heading\"] = text_preprocessing(test_data[\"heading\"])\n",
        "test_data.head()"
      ]
    },
    {
      "cell_type": "markdown",
      "metadata": {
        "id": "h-jebwYJKzYf"
      },
      "source": [
        "## 3. Explore Data"
      ]
    },
    {
      "cell_type": "markdown",
      "metadata": {
        "id": "YOz2x8I9KzYf"
      },
      "source": [
        "### 3.1 Check Empty Data"
      ]
    },
    {
      "cell_type": "code",
      "execution_count": 10,
      "metadata": {
        "colab": {
          "base_uri": "https://localhost:8080/"
        },
        "id": "JnpLwKZ8KzYf",
        "outputId": "388720f7-8d35-4212-8bf0-2bbfb22f3659"
      },
      "outputs": [
        {
          "data": {
            "text/html": [
              "<div>\n",
              "<style scoped>\n",
              "    .dataframe tbody tr th:only-of-type {\n",
              "        vertical-align: middle;\n",
              "    }\n",
              "\n",
              "    .dataframe tbody tr th {\n",
              "        vertical-align: top;\n",
              "    }\n",
              "\n",
              "    .dataframe thead th {\n",
              "        text-align: right;\n",
              "    }\n",
              "</style>\n",
              "<table border=\"1\" class=\"dataframe\">\n",
              "  <thead>\n",
              "    <tr style=\"text-align: right;\">\n",
              "      <th></th>\n",
              "      <th>city</th>\n",
              "      <th>category</th>\n",
              "      <th>section</th>\n",
              "      <th>heading</th>\n",
              "    </tr>\n",
              "  </thead>\n",
              "  <tbody>\n",
              "  </tbody>\n",
              "</table>\n",
              "</div>"
            ],
            "text/plain": [
              "Empty DataFrame\n",
              "Columns: [city, category, section, heading]\n",
              "Index: []"
            ]
          },
          "execution_count": 10,
          "metadata": {},
          "output_type": "execute_result"
        }
      ],
      "source": [
        "df[df.isna().any(axis=1)]"
      ]
    },
    {
      "cell_type": "markdown",
      "metadata": {
        "id": "X-11h1ENKzYg"
      },
      "source": [
        "### 3.2 Count of Various \"City\" in Data"
      ]
    },
    {
      "cell_type": "code",
      "execution_count": 11,
      "metadata": {
        "colab": {
          "base_uri": "https://localhost:8080/"
        },
        "id": "Xsz_B-v7KzYg",
        "outputId": "fe1f74fd-6b95-4e3b-ce03-0a9334043eb9"
      },
      "outputs": [
        {
          "data": {
            "image/png": "[encoded data removed]",
            "text/plain": [
              "<Figure size 720x432 with 1 Axes>"
            ]
          },
          "metadata": {
            "needs_background": "light"
          },
          "output_type": "display_data"
        }
      ],
      "source": [
        "df[\"city\"].value_counts().plot(\n",
        "    kind=\"bar\",\n",
        "    figsize=(10,6)\n",
        ");"
      ]
    },
    {
      "cell_type": "markdown",
      "metadata": {
        "id": "sy5XT-j2KzYg"
      },
      "source": [
        "### 3.3 Count of Various \"Category\" in Data"
      ]
    },
    {
      "cell_type": "code",
      "execution_count": 12,
      "metadata": {
        "colab": {
          "base_uri": "https://localhost:8080/",
          "height": 641
        },
        "id": "Xxz4Olo8KzYg",
        "outputId": "d0c7f8dc-bead-46ff-9405-345bb9db6be3"
      },
      "outputs": [
        {
          "data": {
            "image/png": "[encoded data removed]",
            "text/plain": [
              "<Figure size 720x432 with 1 Axes>"
            ]
          },
          "metadata": {
            "needs_background": "light"
          },
          "output_type": "display_data"
        }
      ],
      "source": [
        "df[\"category\"].value_counts().plot(\n",
        "    kind=\"bar\",\n",
        "    figsize=(10,6)\n",
        ");"
      ]
    },
    {
      "cell_type": "markdown",
      "metadata": {
        "id": "6mrR78gaKzYh"
      },
      "source": [
        "### 3.4 Proportion of Various \"Section\" in Data"
      ]
    },
    {
      "cell_type": "code",
      "execution_count": 13,
      "metadata": {
        "colab": {
          "base_uri": "https://localhost:8080/",
          "height": 499
        },
        "id": "llXvEIwXKzYh",
        "outputId": "3a68b264-72aa-499f-b3fd-58ebfe3b909a"
      },
      "outputs": [
        {
          "data": {
            "image/png": "[encoded data removed]",
            "text/plain": [
              "<Figure size 720x432 with 1 Axes>"
            ]
          },
          "metadata": {},
          "output_type": "display_data"
        }
      ],
      "source": [
        "df[\"section\"].value_counts().plot(\n",
        "    kind=\"pie\",\n",
        "    figsize=(10, 6),\n",
        "    autopct=\"%1.1f%%\",\n",
        "    startangle=90,\n",
        ");"
      ]
    },
    {
      "cell_type": "markdown",
      "metadata": {
        "id": "1l50Omw7KzYh"
      },
      "source": [
        "### 3.5 Word occurence in \"Heading\" column"
      ]
    },
    {
      "cell_type": "code",
      "execution_count": 14,
      "metadata": {
        "colab": {
          "base_uri": "https://localhost:8080/",
          "height": 670
        },
        "id": "1QWxR0ivKzYh",
        "outputId": "0f684598-f685-4c38-915c-bddd5403070f"
      },
      "outputs": [
        {
          "name": "stdout",
          "output_type": "stream",
          "text": [
            "           word_count\n",
            "map              2651\n",
            "room             1454\n",
            "amp              1094\n",
            "service           954\n",
            "new               913\n",
            "call              770\n",
            "looking           715\n",
            "rent              701\n",
            "massage           679\n",
            "available         634\n"
          ]
        },
        {
          "data": {
            "image/png": "[encoded data removed]",
            "text/plain": [
              "<Figure size 432x288 with 1 Axes>"
            ]
          },
          "metadata": {
            "needs_background": "light"
          },
          "output_type": "display_data"
        }
      ],
      "source": [
        "corpus = \" \".join(review for review in df[\"heading\"])\n",
        "corpus_dict = dict(Counter(corpus.split(' ')))\n",
        "corpus_df = pd.DataFrame(corpus_dict, index=[\"word_count\"]).T\n",
        "corpus_df = corpus_df.sort_values(by=\"word_count\",ascending=False)\n",
        "corpus_df = corpus_df.head(len(corpus_df[corpus_df[\"word_count\"]>=16]))\n",
        "print(corpus_df.head(10))\n",
        "corpus_df.head(10).plot(kind=\"bar\");"
      ]
    },
    {
      "cell_type": "code",
      "execution_count": 15,
      "metadata": {
        "colab": {
          "base_uri": "https://localhost:8080/",
          "height": 320
        },
        "id": "fpdx9d6gKzYh",
        "outputId": "de1b1e0a-840d-42a1-d0b6-0367f8fe28ce"
      },
      "outputs": [
        {
          "name": "stdout",
          "output_type": "stream",
          "text": [
            "Words Count:  9128\n"
          ]
        },
        {
          "data": {
            "image/png": "[encoded data removed]",
            "text/plain": [
              "<Figure size 432x288 with 1 Axes>"
            ]
          },
          "metadata": {
            "needs_background": "light"
          },
          "output_type": "display_data"
        },
        {
          "data": {
            "text/plain": [
              "<Figure size 432x288 with 0 Axes>"
            ]
          },
          "metadata": {},
          "output_type": "display_data"
        }
      ],
      "source": [
        "print(\"Words Count: \",len(set(corpus.split(\" \"))))\n",
        "\n",
        "wordcloud = WordCloud(random_state=27)\n",
        "\n",
        "wordcloud.generate(corpus)\n",
        "\n",
        "plt.imshow(wordcloud, interpolation=\"bilinear\")\n",
        "plt.axis(\"off\")\n",
        "plt.figure()\n",
        "plt.show()"
      ]
    },
    {
      "cell_type": "markdown",
      "metadata": {
        "id": "ZF1Lo0zCKzYi"
      },
      "source": [
        "## 4. Model Training"
      ]
    },
    {
      "cell_type": "markdown",
      "metadata": {
        "id": "6wP7GqWSKzYi"
      },
      "source": [
        "### 4.1 Feature Engineering"
      ]
    },
    {
      "cell_type": "code",
      "execution_count": 16,
      "metadata": {
        "id": "SV8umSrzKzYi"
      },
      "outputs": [],
      "source": [
        "def one_hot_encoding(feature: np.array) -> np.array:\n",
        "    label_encoder = LabelEncoder()\n",
        "    integer_encoded = label_encoder.fit_transform(feature)\n",
        "\n",
        "    onehot_encoder = OneHotEncoder(sparse=True)\n",
        "    integer_encoded = integer_encoded.reshape(len(integer_encoded), 1)\n",
        "    onehot_encoded = onehot_encoder.fit_transform(integer_encoded)\n",
        "\n",
        "    return onehot_encoded\n",
        "\n",
        "def preprocessing(df: pd.DataFrame) -> np.array:\n",
        "    X_section = one_hot_encoding(df[\"section\"].values).toarray()\n",
        "    X_city = one_hot_encoding(df[\"city\"].values).toarray()\n",
        "\n",
        "    tfidf = TfidfVectorizer(max_features=len(corpus_df[corpus_df[\"word_count\"]>=16]))\n",
        "    X_heading = tfidf.fit_transform(df['heading'].values).toarray()\n",
        "\n",
        "    X = np.concatenate((X_section, X_city, X_heading), axis=1)\n",
        "\n",
        "    return X"
      ]
    },
    {
      "cell_type": "code",
      "execution_count": 17,
      "metadata": {
        "colab": {
          "base_uri": "https://localhost:8080/"
        },
        "id": "O0K-GPgZKzYi",
        "outputId": "0baa7c8e-2437-4751-bc5a-f9f2dda1e294"
      },
      "outputs": [
        {
          "name": "stdout",
          "output_type": "stream",
          "text": [
            "X:\n",
            " [[0. 1. 0. ... 0. 0. 0.]\n",
            " [0. 1. 0. ... 0. 0. 0.]\n",
            " [0. 1. 0. ... 0. 0. 0.]\n",
            " ...\n",
            " [0. 0. 0. ... 0. 0. 0.]\n",
            " [0. 0. 0. ... 0. 0. 0.]\n",
            " [0. 0. 0. ... 0. 0. 0.]] \n",
            "\n",
            "Y:\n",
            " ['cell-phones' 'cell-phones' 'cell-phones' ... 'therapeutic' 'therapeutic'\n",
            " 'therapeutic']\n"
          ]
        }
      ],
      "source": [
        "df_no_map = df[df[\"heading\"]!=\"map\"]\n",
        "X = preprocessing(df_no_map)\n",
        "Y = df_no_map[\"category\"].values\n",
        "\n",
        "print(\"X:\\n\", X,\"\\n\")\n",
        "print(\"Y:\\n\", Y)"
      ]
    },
    {
      "cell_type": "markdown",
      "metadata": {
        "id": "3G16UasU4W88"
      },
      "source": [
        "### 4.2 ML + Sampling Data"
      ]
    },
    {
      "cell_type": "code",
      "execution_count": 18,
      "metadata": {
        "id": "KgaAyfhfKzYi"
      },
      "outputs": [],
      "source": [
        "smote_tomek = SMOTETomek(random_state=27)\n",
        "X_resampled, Y_resampled = smote_tomek.fit_resample(X, Y)"
      ]
    },
    {
      "cell_type": "code",
      "execution_count": 19,
      "metadata": {
        "colab": {
          "base_uri": "https://localhost:8080/"
        },
        "id": "N2HHG1I6KzYi",
        "outputId": "67149ef4-4b20-464c-9b89-14ac4a6cc1e7"
      },
      "outputs": [
        {
          "name": "stdout",
          "output_type": "stream",
          "text": [
            "Accuracy: 0.92\n"
          ]
        }
      ],
      "source": [
        "X_train, X_test, y_train, y_test = train_test_split(X_resampled, Y_resampled, test_size=0.2, random_state=27,)\n",
        "\n",
        "ml_model = RandomForestClassifier(random_state=27)\n",
        "\n",
        "ml_model.fit(X_train, y_train)\n",
        "\n",
        "y_pred = ml_model.predict(X_test)\n",
        "\n",
        "print(f'Accuracy: {accuracy_score(y_test, y_pred):.2f}')"
      ]
    },
    {
      "cell_type": "code",
      "execution_count": 20,
      "metadata": {
        "colab": {
          "base_uri": "https://localhost:8080/"
        },
        "id": "MP3w_nINKzYi",
        "outputId": "9b76812f-499b-4a6c-e728-16510b732302"
      },
      "outputs": [
        {
          "name": "stdout",
          "output_type": "stream",
          "text": [
            "                    precision    recall  f1-score   support\n",
            "\n",
            "        activities       0.88      0.90      0.89       454\n",
            "        appliances       0.94      0.93      0.94       460\n",
            "           artists       0.94      0.89      0.91       427\n",
            "        automotive       0.92      0.95      0.93       411\n",
            "       cell-phones       0.99      0.95      0.97       434\n",
            "         childcare       0.98      0.96      0.97       449\n",
            "           general       0.84      0.89      0.87       446\n",
            "household-services       0.92      0.85      0.89       455\n",
            "           housing       0.96      0.99      0.97       438\n",
            "       photography       0.97      0.91      0.94       414\n",
            "       real-estate       0.90      0.92      0.91       462\n",
            "            shared       0.88      0.82      0.85       404\n",
            "         temporary       0.87      0.88      0.88       434\n",
            "       therapeutic       0.97      0.98      0.97       425\n",
            "       video-games       0.88      0.96      0.91       454\n",
            "    wanted-housing       0.88      0.90      0.89       441\n",
            "\n",
            "          accuracy                           0.92      7008\n",
            "         macro avg       0.92      0.92      0.92      7008\n",
            "      weighted avg       0.92      0.92      0.92      7008\n",
            "\n"
          ]
        }
      ],
      "source": [
        "report = classification_report(y_test, y_pred)\n",
        "print(report)"
      ]
    },
    {
      "cell_type": "code",
      "execution_count": null,
      "metadata": {
        "colab": {
          "base_uri": "https://localhost:8080/"
        },
        "id": "aiI3KJGRKzYj",
        "outputId": "bdeba958-3b53-4b64-8825-227998b48a22"
      },
      "outputs": [
        {
          "name": "stdout",
          "output_type": "stream",
          "text": [
            "Cross Validation Scores:  [0.65139442 0.7618099  0.79447765 0.77967549 0.7127811 ]\n",
            "Average CV Score:  0.7400277139581238\n",
            "Number of CV Scores used in Average:  5\n"
          ]
        }
      ],
      "source": [
        "sk_folds = StratifiedKFold(n_splits = 5)\n",
        "scores = cross_val_score(ml_model, X, Y, cv = sk_folds)\n",
        "\n",
        "print(\"Cross Validation Scores: \", scores)\n",
        "print(\"Average CV Score: \", scores.mean())\n",
        "print(\"Number of CV Scores used in Average: \", len(scores))"
      ]
    },
    {
      "cell_type": "code",
      "execution_count": null,
      "metadata": {
        "id": "lIbuWjd1KzYk"
      },
      "outputs": [],
      "source": [
        "with open(\"ml_model.h5\",\"wb\") as m:\n",
        "    pickle.dump(ml_model, m)"
      ]
    },
    {
      "cell_type": "markdown",
      "metadata": {
        "id": "V-s0z5QC5KmN"
      },
      "source": [
        "### 4.3 Neural Network"
      ]
    },
    {
      "cell_type": "code",
      "execution_count": null,
      "metadata": {
        "colab": {
          "base_uri": "https://localhost:8080/"
        },
        "id": "gP9j9PhMNopf",
        "outputId": "fd718232-e849-4c28-e3aa-0feae8bfd8fd"
      },
      "outputs": [
        {
          "name": "stdout",
          "output_type": "stream",
          "text": [
            "Model: \"sequential\"\n",
            "_________________________________________________________________\n",
            " Layer (type)                Output Shape              Param #   \n",
            "=================================================================\n",
            " dense (Dense)               (None, 256)               243712    \n",
            "                                                                 \n",
            " dropout (Dropout)           (None, 256)               0         \n",
            "                                                                 \n",
            " dense_1 (Dense)             (None, 128)               32896     \n",
            "                                                                 \n",
            " dropout_1 (Dropout)         (None, 128)               0         \n",
            "                                                                 \n",
            " dense_2 (Dense)             (None, 64)                8256      \n",
            "                                                                 \n",
            " dense_3 (Dense)             (None, 16)                1040      \n",
            "                                                                 \n",
            "=================================================================\n",
            "Total params: 285904 (1.09 MB)\n",
            "Trainable params: 285904 (1.09 MB)\n",
            "Non-trainable params: 0 (0.00 Byte)\n",
            "_________________________________________________________________\n"
          ]
        }
      ],
      "source": [
        "model = tf.keras.Sequential([\n",
        "    tf.keras.layers.Dense(256, activation='relu', input_shape=(X_train.shape[-1],)),\n",
        "    tf.keras.layers.Dropout(0.5),\n",
        "\n",
        "    tf.keras.layers.Dense(128, activation='relu'),\n",
        "    tf.keras.layers.Dropout(0.3),\n",
        "\n",
        "    tf.keras.layers.Dense(64, activation='relu'),\n",
        "\n",
        "    tf.keras.layers.Dense(16, activation='softmax')\n",
        "])\n",
        "\n",
        "\n",
        "model.compile(optimizer=tf.keras.optimizers.Adam(learning_rate=0.001),\n",
        "              loss='categorical_crossentropy',\n",
        "              metrics=['accuracy'],\n",
        "              run_eagerly=True)\n",
        "\n",
        "model.summary()"
      ]
    },
    {
      "cell_type": "code",
      "execution_count": null,
      "metadata": {
        "colab": {
          "base_uri": "https://localhost:8080/"
        },
        "id": "5-iDAqhBQG7e",
        "outputId": "8cf9a8b5-8060-45d7-f4be-3184944499b1"
      },
      "outputs": [
        {
          "name": "stderr",
          "output_type": "stream",
          "text": [
            "/usr/local/lib/python3.10/dist-packages/sklearn/preprocessing/_encoders.py:868: FutureWarning: `sparse` was renamed to `sparse_output` in version 1.2 and will be removed in 1.4. `sparse_output` is ignored unless you leave `sparse` to its default value.\n",
            "  warnings.warn(\n"
          ]
        }
      ],
      "source": [
        "label_encoder = LabelEncoder()\n",
        "Y_label = label_encoder.fit_transform(Y)\n",
        "\n",
        "onehot_encoder = OneHotEncoder(sparse=True)\n",
        "integer_encoded = Y_label.reshape(len(Y_label), 1)\n",
        "Y_onehot = onehot_encoder.fit_transform(integer_encoded)\n",
        "\n",
        "X_train, X_test, y_train, y_test = train_test_split(X, Y_onehot, test_size=0.2, random_state=27,)"
      ]
    },
    {
      "cell_type": "code",
      "execution_count": null,
      "metadata": {
        "colab": {
          "base_uri": "https://localhost:8080/"
        },
        "id": "jARnFlaHOsSa",
        "outputId": "87475e7a-8471-49eb-8060-2e8e0a4fb167"
      },
      "outputs": [
        {
          "name": "stdout",
          "output_type": "stream",
          "text": [
            "Epoch 1/100\n",
            "440/440 [==============================] - ETA: 0s - loss: 1.0268 - accuracy: 0.6151\n",
            "Epoch 00001: val_accuracy improved from -inf to 0.81816, saving model to best_model.h5\n",
            "440/440 [==============================] - 28s 62ms/step - loss: 1.0268 - accuracy: 0.6151 - val_loss: 0.4633 - val_accuracy: 0.8182 - lr: 0.0010\n",
            "Epoch 2/100\n",
            "  2/440 [..............................] - ETA: 28s - loss: 0.4548 - accuracy: 0.8750"
          ]
        },
        {
          "name": "stderr",
          "output_type": "stream",
          "text": [
            "/usr/local/lib/python3.10/dist-packages/keras/src/engine/training.py:3103: UserWarning: You are saving your model as an HDF5 file via `model.save()`. This file format is considered legacy. We recommend using instead the native Keras format, e.g. `model.save('my_model.keras')`.\n",
            "  saving_api.save_model(\n"
          ]
        },
        {
          "name": "stdout",
          "output_type": "stream",
          "text": [
            "440/440 [==============================] - ETA: 0s - loss: 0.4613 - accuracy: 0.8194\n",
            "Epoch 00002: val_accuracy improved from 0.81816 to 0.84832, saving model to best_model.h5\n",
            "440/440 [==============================] - 31s 70ms/step - loss: 0.4613 - accuracy: 0.8194 - val_loss: 0.3899 - val_accuracy: 0.8483 - lr: 0.0010\n",
            "Epoch 3/100\n",
            "439/440 [============================>.] - ETA: 0s - loss: 0.3739 - accuracy: 0.8593\n",
            "Epoch 00003: val_accuracy improved from 0.84832 to 0.85828, saving model to best_model.h5\n",
            "440/440 [==============================] - 27s 62ms/step - loss: 0.3740 - accuracy: 0.8592 - val_loss: 0.3728 - val_accuracy: 0.8583 - lr: 0.0010\n",
            "Epoch 4/100\n",
            "439/440 [============================>.] - ETA: 0s - loss: 0.3331 - accuracy: 0.8715\n",
            "Epoch 00004: val_accuracy improved from 0.85828 to 0.86113, saving model to best_model.h5\n",
            "440/440 [==============================] - 26s 60ms/step - loss: 0.3332 - accuracy: 0.8714 - val_loss: 0.3763 - val_accuracy: 0.8611 - lr: 0.0010\n",
            "Epoch 5/100\n",
            "440/440 [==============================] - ETA: 0s - loss: 0.3070 - accuracy: 0.8855\n",
            "Epoch 00005: val_accuracy did not improve from 0.86113\n",
            "440/440 [==============================] - 28s 63ms/step - loss: 0.3070 - accuracy: 0.8855 - val_loss: 0.3770 - val_accuracy: 0.8606 - lr: 0.0010\n",
            "Epoch 6/100\n",
            "440/440 [==============================] - ETA: 0s - loss: 0.2717 - accuracy: 0.9004\n",
            "Epoch 00006: val_accuracy improved from 0.86113 to 0.86170, saving model to best_model.h5\n",
            "440/440 [==============================] - 28s 63ms/step - loss: 0.2717 - accuracy: 0.9004 - val_loss: 0.3855 - val_accuracy: 0.8617 - lr: 0.0010\n",
            "Epoch 7/100\n",
            "439/440 [============================>.] - ETA: 0s - loss: 0.2546 - accuracy: 0.9053\n",
            "Epoch 00007: val_accuracy improved from 0.86170 to 0.86540, saving model to best_model.h5\n",
            "440/440 [==============================] - 27s 61ms/step - loss: 0.2548 - accuracy: 0.9053 - val_loss: 0.3891 - val_accuracy: 0.8654 - lr: 0.0010\n",
            "Epoch 8/100\n",
            "440/440 [==============================] - ETA: 0s - loss: 0.2424 - accuracy: 0.9087\n",
            "Epoch 00008: val_accuracy did not improve from 0.86540\n",
            "440/440 [==============================] - 25s 57ms/step - loss: 0.2424 - accuracy: 0.9087 - val_loss: 0.3926 - val_accuracy: 0.8591 - lr: 0.0010\n",
            "Epoch 9/100\n",
            "440/440 [==============================] - ETA: 0s - loss: 0.2195 - accuracy: 0.9177\n",
            "Epoch 00009: val_accuracy did not improve from 0.86540\n",
            "440/440 [==============================] - 27s 61ms/step - loss: 0.2195 - accuracy: 0.9177 - val_loss: 0.4192 - val_accuracy: 0.8645 - lr: 0.0010\n",
            "Epoch 10/100\n",
            "440/440 [==============================] - ETA: 0s - loss: 0.2051 - accuracy: 0.9231\n",
            "Epoch 00010: val_accuracy did not improve from 0.86540\n",
            "440/440 [==============================] - 29s 66ms/step - loss: 0.2051 - accuracy: 0.9231 - val_loss: 0.4102 - val_accuracy: 0.8651 - lr: 0.0010\n",
            "Epoch 11/100\n",
            "440/440 [==============================] - ETA: 0s - loss: 0.1889 - accuracy: 0.9319\n",
            "Epoch 00011: val_accuracy improved from 0.86540 to 0.86824, saving model to best_model.h5\n",
            "440/440 [==============================] - 28s 63ms/step - loss: 0.1889 - accuracy: 0.9319 - val_loss: 0.4353 - val_accuracy: 0.8682 - lr: 0.0010\n",
            "Epoch 12/100\n",
            "439/440 [============================>.] - ETA: 0s - loss: 0.1800 - accuracy: 0.9328\n",
            "Epoch 00012: val_accuracy did not improve from 0.86824\n",
            "440/440 [==============================] - 26s 60ms/step - loss: 0.1801 - accuracy: 0.9327 - val_loss: 0.4707 - val_accuracy: 0.8617 - lr: 0.0010\n",
            "Epoch 13/100\n",
            "440/440 [==============================] - ETA: 0s - loss: 0.1691 - accuracy: 0.9362\n",
            "Epoch 00013: val_accuracy did not improve from 0.86824\n",
            "440/440 [==============================] - 26s 58ms/step - loss: 0.1691 - accuracy: 0.9362 - val_loss: 0.4566 - val_accuracy: 0.8608 - lr: 0.0010\n",
            "Epoch 14/100\n",
            "440/440 [==============================] - ETA: 0s - loss: 0.1616 - accuracy: 0.9383\n",
            "Epoch 00014: val_accuracy did not improve from 0.86824\n",
            "440/440 [==============================] - 24s 54ms/step - loss: 0.1616 - accuracy: 0.9383 - val_loss: 0.4754 - val_accuracy: 0.8668 - lr: 0.0010\n",
            "Epoch 15/100\n",
            "439/440 [============================>.] - ETA: 0s - loss: 0.1569 - accuracy: 0.9409\n",
            "Epoch 00015: val_accuracy did not improve from 0.86824\n",
            "440/440 [==============================] - 25s 57ms/step - loss: 0.1570 - accuracy: 0.9409 - val_loss: 0.4886 - val_accuracy: 0.8594 - lr: 0.0010\n",
            "Epoch 16/100\n",
            "439/440 [============================>.] - ETA: 0s - loss: 0.1484 - accuracy: 0.9445\n",
            "Epoch 00016: val_accuracy did not improve from 0.86824\n",
            "440/440 [==============================] - 25s 57ms/step - loss: 0.1484 - accuracy: 0.9446 - val_loss: 0.5059 - val_accuracy: 0.8583 - lr: 0.0010\n",
            "Epoch 17/100\n",
            "440/440 [==============================] - ETA: 0s - loss: 0.1404 - accuracy: 0.9461\n",
            "Epoch 00017: val_accuracy did not improve from 0.86824\n",
            "440/440 [==============================] - 25s 56ms/step - loss: 0.1404 - accuracy: 0.9461 - val_loss: 0.5149 - val_accuracy: 0.8611 - lr: 0.0010\n",
            "Epoch 18/100\n",
            "440/440 [==============================] - ETA: 0s - loss: 0.1362 - accuracy: 0.9478\n",
            "Epoch 00018: val_accuracy did not improve from 0.86824\n",
            "440/440 [==============================] - 25s 56ms/step - loss: 0.1362 - accuracy: 0.9478 - val_loss: 0.5271 - val_accuracy: 0.8614 - lr: 0.0010\n",
            "Epoch 19/100\n",
            "440/440 [==============================] - ETA: 0s - loss: 0.1304 - accuracy: 0.9518\n",
            "Epoch 00019: val_accuracy did not improve from 0.86824\n",
            "440/440 [==============================] - 25s 56ms/step - loss: 0.1304 - accuracy: 0.9518 - val_loss: 0.5378 - val_accuracy: 0.8586 - lr: 0.0010\n",
            "Epoch 20/100\n",
            "439/440 [============================>.] - ETA: 0s - loss: 0.1277 - accuracy: 0.9512\n",
            "Epoch 00020: val_accuracy did not improve from 0.86824\n",
            "440/440 [==============================] - 24s 55ms/step - loss: 0.1278 - accuracy: 0.9511 - val_loss: 0.5568 - val_accuracy: 0.8620 - lr: 0.0010\n",
            "Epoch 21/100\n",
            "439/440 [============================>.] - ETA: 0s - loss: 0.1198 - accuracy: 0.9529\n",
            "Epoch 00021: val_accuracy did not improve from 0.86824\n",
            "440/440 [==============================] - 25s 57ms/step - loss: 0.1198 - accuracy: 0.9530 - val_loss: 0.5633 - val_accuracy: 0.8662 - lr: 0.0010\n",
            "Epoch 22/100\n",
            "440/440 [==============================] - ETA: 0s - loss: 0.1231 - accuracy: 0.9523\n",
            "Epoch 00022: val_accuracy did not improve from 0.86824\n",
            "440/440 [==============================] - 26s 59ms/step - loss: 0.1231 - accuracy: 0.9523 - val_loss: 0.5770 - val_accuracy: 0.8566 - lr: 0.0010\n",
            "Epoch 23/100\n",
            "440/440 [==============================] - ETA: 0s - loss: 0.1194 - accuracy: 0.9547\n",
            "Epoch 00023: val_accuracy did not improve from 0.86824\n",
            "440/440 [==============================] - 26s 59ms/step - loss: 0.1194 - accuracy: 0.9547 - val_loss: 0.5648 - val_accuracy: 0.8682 - lr: 0.0010\n",
            "Epoch 24/100\n",
            "440/440 [==============================] - ETA: 0s - loss: 0.1100 - accuracy: 0.9559\n",
            "Epoch 00024: val_accuracy did not improve from 0.86824\n",
            "440/440 [==============================] - 25s 56ms/step - loss: 0.1100 - accuracy: 0.9559 - val_loss: 0.6022 - val_accuracy: 0.8623 - lr: 0.0010\n",
            "Epoch 25/100\n",
            "440/440 [==============================] - ETA: 0s - loss: 0.1050 - accuracy: 0.9589\n",
            "Epoch 00025: val_accuracy did not improve from 0.86824\n",
            "440/440 [==============================] - 25s 57ms/step - loss: 0.1050 - accuracy: 0.9589 - val_loss: 0.6075 - val_accuracy: 0.8597 - lr: 0.0010\n",
            "Epoch 26/100\n",
            "439/440 [============================>.] - ETA: 0s - loss: 0.1077 - accuracy: 0.9566\n",
            "Epoch 00026: val_accuracy did not improve from 0.86824\n",
            "440/440 [==============================] - 24s 54ms/step - loss: 0.1077 - accuracy: 0.9567 - val_loss: 0.6153 - val_accuracy: 0.8631 - lr: 0.0010\n",
            "Epoch 27/100\n",
            "439/440 [============================>.] - ETA: 0s - loss: 0.1072 - accuracy: 0.9579\n",
            "Epoch 00027: val_accuracy did not improve from 0.86824\n",
            "440/440 [==============================] - 25s 56ms/step - loss: 0.1072 - accuracy: 0.9579 - val_loss: 0.6187 - val_accuracy: 0.8617 - lr: 0.0010\n",
            "Epoch 28/100\n",
            "439/440 [============================>.] - ETA: 0s - loss: 0.1048 - accuracy: 0.9573\n",
            "Epoch 00028: val_accuracy did not improve from 0.86824\n",
            "440/440 [==============================] - 26s 59ms/step - loss: 0.1048 - accuracy: 0.9572 - val_loss: 0.6133 - val_accuracy: 0.8648 - lr: 0.0010\n",
            "Epoch 29/100\n",
            "439/440 [============================>.] - ETA: 0s - loss: 0.1011 - accuracy: 0.9607\n",
            "Epoch 00029: val_accuracy did not improve from 0.86824\n",
            "440/440 [==============================] - 25s 57ms/step - loss: 0.1013 - accuracy: 0.9606 - val_loss: 0.6180 - val_accuracy: 0.8623 - lr: 0.0010\n",
            "Epoch 30/100\n",
            "440/440 [==============================] - ETA: 0s - loss: 0.1014 - accuracy: 0.9609\n",
            "Epoch 00030: val_accuracy did not improve from 0.86824\n",
            "440/440 [==============================] - 25s 56ms/step - loss: 0.1014 - accuracy: 0.9609 - val_loss: 0.6262 - val_accuracy: 0.8589 - lr: 0.0010\n",
            "Epoch 31/100\n",
            "440/440 [==============================] - ETA: 0s - loss: 0.0960 - accuracy: 0.9616\n",
            "Epoch 00031: val_accuracy did not improve from 0.86824\n",
            "440/440 [==============================] - 25s 57ms/step - loss: 0.0960 - accuracy: 0.9616 - val_loss: 0.6747 - val_accuracy: 0.8608 - lr: 0.0010\n",
            "Epoch 32/100\n",
            "440/440 [==============================] - ETA: 0s - loss: 0.0975 - accuracy: 0.9612\n",
            "Epoch 00032: val_accuracy did not improve from 0.86824\n",
            "440/440 [==============================] - 25s 57ms/step - loss: 0.0975 - accuracy: 0.9612 - val_loss: 0.6533 - val_accuracy: 0.8606 - lr: 0.0010\n",
            "Epoch 33/100\n",
            "440/440 [==============================] - ETA: 0s - loss: 0.0948 - accuracy: 0.9613\n",
            "Epoch 00033: val_accuracy did not improve from 0.86824\n",
            "440/440 [==============================] - 25s 58ms/step - loss: 0.0948 - accuracy: 0.9613 - val_loss: 0.6632 - val_accuracy: 0.8566 - lr: 0.0010\n",
            "Epoch 34/100\n",
            "439/440 [============================>.] - ETA: 0s - loss: 0.0929 - accuracy: 0.9618\n",
            "Epoch 00034: val_accuracy did not improve from 0.86824\n",
            "440/440 [==============================] - 25s 57ms/step - loss: 0.0929 - accuracy: 0.9619 - val_loss: 0.7013 - val_accuracy: 0.8614 - lr: 0.0010\n",
            "Epoch 35/100\n",
            "439/440 [============================>.] - ETA: 0s - loss: 0.0879 - accuracy: 0.9633\n",
            "Epoch 00035: val_accuracy did not improve from 0.86824\n",
            "440/440 [==============================] - 25s 56ms/step - loss: 0.0879 - accuracy: 0.9634 - val_loss: 0.7036 - val_accuracy: 0.8591 - lr: 0.0010\n",
            "Epoch 36/100\n",
            "440/440 [==============================] - ETA: 0s - loss: 0.0907 - accuracy: 0.9629\n",
            "Epoch 00036: val_accuracy did not improve from 0.86824\n",
            "440/440 [==============================] - 24s 55ms/step - loss: 0.0907 - accuracy: 0.9629 - val_loss: 0.6902 - val_accuracy: 0.8606 - lr: 0.0010\n",
            "Epoch 37/100\n",
            "440/440 [==============================] - ETA: 0s - loss: 0.0884 - accuracy: 0.9636\n",
            "Epoch 00037: val_accuracy did not improve from 0.86824\n",
            "440/440 [==============================] - 24s 54ms/step - loss: 0.0884 - accuracy: 0.9636 - val_loss: 0.7024 - val_accuracy: 0.8603 - lr: 0.0010\n",
            "Epoch 38/100\n",
            "439/440 [============================>.] - ETA: 0s - loss: 0.0896 - accuracy: 0.9643\n",
            "Epoch 00038: val_accuracy did not improve from 0.86824\n",
            "440/440 [==============================] - 23s 53ms/step - loss: 0.0896 - accuracy: 0.9643 - val_loss: 0.7142 - val_accuracy: 0.8591 - lr: 0.0010\n",
            "Epoch 39/100\n",
            "440/440 [==============================] - ETA: 0s - loss: 0.0926 - accuracy: 0.9623\n",
            "Epoch 00039: val_accuracy did not improve from 0.86824\n",
            "440/440 [==============================] - 25s 58ms/step - loss: 0.0926 - accuracy: 0.9623 - val_loss: 0.6763 - val_accuracy: 0.8603 - lr: 0.0010\n",
            "Epoch 40/100\n",
            "440/440 [==============================] - ETA: 0s - loss: 0.0915 - accuracy: 0.9623\n",
            "Epoch 00040: val_accuracy did not improve from 0.86824\n",
            "440/440 [==============================] - 24s 55ms/step - loss: 0.0915 - accuracy: 0.9623 - val_loss: 0.7179 - val_accuracy: 0.8625 - lr: 0.0010\n",
            "Epoch 41/100\n",
            "440/440 [==============================] - ETA: 0s - loss: 0.0851 - accuracy: 0.9651\n",
            "Epoch 00041: val_accuracy did not improve from 0.86824\n",
            "440/440 [==============================] - 24s 55ms/step - loss: 0.0851 - accuracy: 0.9651 - val_loss: 0.7220 - val_accuracy: 0.8597 - lr: 0.0010\n",
            "Epoch 42/100\n",
            "439/440 [============================>.] - ETA: 0s - loss: 0.0839 - accuracy: 0.9645\n",
            "Epoch 00042: val_accuracy did not improve from 0.86824\n",
            "440/440 [==============================] - 25s 56ms/step - loss: 0.0839 - accuracy: 0.9645 - val_loss: 0.7614 - val_accuracy: 0.8583 - lr: 0.0010\n",
            "Epoch 43/100\n",
            "439/440 [============================>.] - ETA: 0s - loss: 0.0835 - accuracy: 0.9651\n",
            "Epoch 00043: val_accuracy did not improve from 0.86824\n",
            "440/440 [==============================] - 25s 57ms/step - loss: 0.0834 - accuracy: 0.9651 - val_loss: 0.7917 - val_accuracy: 0.8560 - lr: 0.0010\n",
            "Epoch 44/100\n",
            "440/440 [==============================] - ETA: 0s - loss: 0.0807 - accuracy: 0.9662\n",
            "Epoch 00044: val_accuracy did not improve from 0.86824\n",
            "440/440 [==============================] - 26s 58ms/step - loss: 0.0807 - accuracy: 0.9662 - val_loss: 0.7694 - val_accuracy: 0.8597 - lr: 0.0010\n",
            "Epoch 45/100\n",
            "440/440 [==============================] - ETA: 0s - loss: 0.0818 - accuracy: 0.9669\n",
            "Epoch 00045: val_accuracy did not improve from 0.86824\n",
            "440/440 [==============================] - 26s 59ms/step - loss: 0.0818 - accuracy: 0.9669 - val_loss: 0.7835 - val_accuracy: 0.8554 - lr: 0.0010\n",
            "Epoch 46/100\n",
            "439/440 [============================>.] - ETA: 0s - loss: 0.0836 - accuracy: 0.9658\n",
            "Epoch 00046: val_accuracy did not improve from 0.86824\n",
            "440/440 [==============================] - 26s 58ms/step - loss: 0.0836 - accuracy: 0.9658 - val_loss: 0.7788 - val_accuracy: 0.8603 - lr: 0.0010\n",
            "Epoch 47/100\n",
            "440/440 [==============================] - ETA: 0s - loss: 0.0831 - accuracy: 0.9650\n",
            "Epoch 00047: val_accuracy did not improve from 0.86824\n",
            "440/440 [==============================] - 26s 59ms/step - loss: 0.0831 - accuracy: 0.9650 - val_loss: 0.7785 - val_accuracy: 0.8611 - lr: 0.0010\n",
            "Epoch 48/100\n",
            "440/440 [==============================] - ETA: 0s - loss: 0.0856 - accuracy: 0.9652\n",
            "Epoch 00048: val_accuracy did not improve from 0.86824\n",
            "440/440 [==============================] - 25s 57ms/step - loss: 0.0856 - accuracy: 0.9652 - val_loss: 0.7544 - val_accuracy: 0.8625 - lr: 0.0010\n",
            "Epoch 49/100\n",
            "440/440 [==============================] - ETA: 0s - loss: 0.0814 - accuracy: 0.9653\n",
            "Epoch 00049: val_accuracy did not improve from 0.86824\n",
            "440/440 [==============================] - 25s 57ms/step - loss: 0.0814 - accuracy: 0.9653 - val_loss: 0.7917 - val_accuracy: 0.8597 - lr: 0.0010\n",
            "Epoch 50/100\n",
            "440/440 [==============================] - ETA: 0s - loss: 0.0808 - accuracy: 0.9671\n",
            "Epoch 00050: val_accuracy did not improve from 0.86824\n",
            "440/440 [==============================] - 25s 58ms/step - loss: 0.0808 - accuracy: 0.9671 - val_loss: 0.7910 - val_accuracy: 0.8566 - lr: 0.0010\n",
            "Epoch 51/100\n",
            "439/440 [============================>.] - ETA: 0s - loss: 0.0825 - accuracy: 0.9669\n",
            "Epoch 00051: val_accuracy did not improve from 0.86824\n",
            "440/440 [==============================] - 25s 57ms/step - loss: 0.0825 - accuracy: 0.9669 - val_loss: 0.7807 - val_accuracy: 0.8631 - lr: 0.0010\n",
            "Epoch 52/100\n",
            "440/440 [==============================] - ETA: 0s - loss: 0.0799 - accuracy: 0.9663\n",
            "Epoch 00052: val_accuracy did not improve from 0.86824\n",
            "440/440 [==============================] - 26s 59ms/step - loss: 0.0799 - accuracy: 0.9663 - val_loss: 0.8106 - val_accuracy: 0.8577 - lr: 0.0010\n",
            "Epoch 53/100\n",
            "439/440 [============================>.] - ETA: 0s - loss: 0.0765 - accuracy: 0.9664\n",
            "Epoch 00053: val_accuracy did not improve from 0.86824\n",
            "440/440 [==============================] - 26s 59ms/step - loss: 0.0764 - accuracy: 0.9664 - val_loss: 0.8453 - val_accuracy: 0.8600 - lr: 0.0010\n",
            "Epoch 54/100\n",
            "439/440 [============================>.] - ETA: 0s - loss: 0.0790 - accuracy: 0.9663\n",
            "Epoch 00054: val_accuracy did not improve from 0.86824\n",
            "440/440 [==============================] - 26s 59ms/step - loss: 0.0790 - accuracy: 0.9663 - val_loss: 0.8005 - val_accuracy: 0.8577 - lr: 0.0010\n",
            "Epoch 55/100\n",
            "440/440 [==============================] - ETA: 0s - loss: 0.0783 - accuracy: 0.9661\n",
            "Epoch 00055: val_accuracy did not improve from 0.86824\n",
            "440/440 [==============================] - 24s 56ms/step - loss: 0.0783 - accuracy: 0.9661 - val_loss: 0.8140 - val_accuracy: 0.8603 - lr: 0.0010\n",
            "Epoch 56/100\n",
            "440/440 [==============================] - ETA: 0s - loss: 0.0754 - accuracy: 0.9676\n",
            "Epoch 00056: val_accuracy did not improve from 0.86824\n",
            "440/440 [==============================] - 25s 57ms/step - loss: 0.0754 - accuracy: 0.9676 - val_loss: 0.8308 - val_accuracy: 0.8611 - lr: 0.0010\n",
            "Epoch 57/100\n",
            "439/440 [============================>.] - ETA: 0s - loss: 0.0760 - accuracy: 0.9666\n",
            "Epoch 00057: val_accuracy did not improve from 0.86824\n",
            "440/440 [==============================] - 24s 54ms/step - loss: 0.0760 - accuracy: 0.9666 - val_loss: 0.8489 - val_accuracy: 0.8563 - lr: 0.0010\n",
            "Epoch 58/100\n",
            "439/440 [============================>.] - ETA: 0s - loss: 0.0759 - accuracy: 0.9663\n",
            "Epoch 00058: val_accuracy did not improve from 0.86824\n",
            "440/440 [==============================] - 25s 57ms/step - loss: 0.0759 - accuracy: 0.9663 - val_loss: 0.8404 - val_accuracy: 0.8625 - lr: 0.0010\n",
            "Epoch 59/100\n",
            "439/440 [============================>.] - ETA: 0s - loss: 0.0763 - accuracy: 0.9674\n",
            "Epoch 00059: val_accuracy did not improve from 0.86824\n",
            "440/440 [==============================] - 26s 58ms/step - loss: 0.0765 - accuracy: 0.9673 - val_loss: 0.8747 - val_accuracy: 0.8603 - lr: 0.0010\n",
            "Epoch 60/100\n",
            "440/440 [==============================] - ETA: 0s - loss: 0.0777 - accuracy: 0.9655\n",
            "Epoch 00060: val_accuracy did not improve from 0.86824\n",
            "440/440 [==============================] - 26s 59ms/step - loss: 0.0777 - accuracy: 0.9655 - val_loss: 0.8706 - val_accuracy: 0.8543 - lr: 0.0010\n",
            "Epoch 61/100\n",
            "440/440 [==============================] - ETA: 0s - loss: 0.0779 - accuracy: 0.9658\n",
            "Epoch 00061: val_accuracy did not improve from 0.86824\n",
            "440/440 [==============================] - 26s 58ms/step - loss: 0.0779 - accuracy: 0.9658 - val_loss: 0.8381 - val_accuracy: 0.8554 - lr: 0.0010\n",
            "Epoch 62/100\n",
            "440/440 [==============================] - ETA: 0s - loss: 0.0734 - accuracy: 0.9676\n",
            "Epoch 00062: val_accuracy did not improve from 0.86824\n",
            "440/440 [==============================] - 25s 56ms/step - loss: 0.0734 - accuracy: 0.9676 - val_loss: 0.8808 - val_accuracy: 0.8606 - lr: 0.0010\n",
            "Epoch 63/100\n",
            "440/440 [==============================] - ETA: 0s - loss: 0.0752 - accuracy: 0.9675\n",
            "Epoch 00063: val_accuracy did not improve from 0.86824\n",
            "440/440 [==============================] - 25s 56ms/step - loss: 0.0752 - accuracy: 0.9675 - val_loss: 0.8602 - val_accuracy: 0.8597 - lr: 0.0010\n",
            "Epoch 64/100\n",
            "440/440 [==============================] - ETA: 0s - loss: 0.0799 - accuracy: 0.9661\n",
            "Epoch 00064: val_accuracy did not improve from 0.86824\n",
            "440/440 [==============================] - 23s 53ms/step - loss: 0.0799 - accuracy: 0.9661 - val_loss: 0.7978 - val_accuracy: 0.8634 - lr: 0.0010\n",
            "Epoch 65/100\n",
            "439/440 [============================>.] - ETA: 0s - loss: 0.0736 - accuracy: 0.9690\n",
            "Epoch 00065: val_accuracy did not improve from 0.86824\n",
            "440/440 [==============================] - 26s 58ms/step - loss: 0.0736 - accuracy: 0.9690 - val_loss: 0.8743 - val_accuracy: 0.8600 - lr: 0.0010\n",
            "Epoch 66/100\n",
            "440/440 [==============================] - ETA: 0s - loss: 0.0737 - accuracy: 0.9691\n",
            "Epoch 00066: val_accuracy did not improve from 0.86824\n",
            "440/440 [==============================] - 26s 58ms/step - loss: 0.0737 - accuracy: 0.9691 - val_loss: 0.8700 - val_accuracy: 0.8600 - lr: 0.0010\n",
            "Epoch 67/100\n",
            "439/440 [============================>.] - ETA: 0s - loss: 0.0739 - accuracy: 0.9671\n",
            "Epoch 00067: val_accuracy did not improve from 0.86824\n",
            "440/440 [==============================] - 26s 58ms/step - loss: 0.0739 - accuracy: 0.9671 - val_loss: 0.8573 - val_accuracy: 0.8580 - lr: 0.0010\n",
            "Epoch 68/100\n",
            "439/440 [============================>.] - ETA: 0s - loss: 0.0745 - accuracy: 0.9670\n",
            "Epoch 00068: val_accuracy did not improve from 0.86824\n",
            "440/440 [==============================] - 25s 56ms/step - loss: 0.0745 - accuracy: 0.9670 - val_loss: 0.8189 - val_accuracy: 0.8560 - lr: 0.0010\n",
            "Epoch 69/100\n",
            "440/440 [==============================] - ETA: 0s - loss: 0.0717 - accuracy: 0.9683\n",
            "Epoch 00069: val_accuracy did not improve from 0.86824\n",
            "440/440 [==============================] - 24s 55ms/step - loss: 0.0717 - accuracy: 0.9683 - val_loss: 0.8922 - val_accuracy: 0.8580 - lr: 0.0010\n",
            "Epoch 70/100\n",
            "439/440 [============================>.] - ETA: 0s - loss: 0.0728 - accuracy: 0.9688\n",
            "Epoch 00070: val_accuracy did not improve from 0.86824\n",
            "440/440 [==============================] - 25s 57ms/step - loss: 0.0728 - accuracy: 0.9688 - val_loss: 0.8879 - val_accuracy: 0.8600 - lr: 0.0010\n",
            "Epoch 71/100\n",
            "439/440 [============================>.] - ETA: 0s - loss: 0.0703 - accuracy: 0.9699\n",
            "Epoch 00071: val_accuracy did not improve from 0.86824\n",
            "440/440 [==============================] - 26s 59ms/step - loss: 0.0703 - accuracy: 0.9699 - val_loss: 0.8875 - val_accuracy: 0.8608 - lr: 0.0010\n",
            "Epoch 72/100\n",
            "440/440 [==============================] - ETA: 0s - loss: 0.0717 - accuracy: 0.9693\n",
            "Epoch 00072: val_accuracy did not improve from 0.86824\n",
            "440/440 [==============================] - 26s 59ms/step - loss: 0.0717 - accuracy: 0.9693 - val_loss: 0.9345 - val_accuracy: 0.8580 - lr: 0.0010\n",
            "Epoch 73/100\n",
            "439/440 [============================>.] - ETA: 0s - loss: 0.0729 - accuracy: 0.9676\n",
            "Epoch 00073: val_accuracy did not improve from 0.86824\n",
            "440/440 [==============================] - 25s 56ms/step - loss: 0.0730 - accuracy: 0.9676 - val_loss: 0.8935 - val_accuracy: 0.8569 - lr: 0.0010\n",
            "Epoch 74/100\n",
            "440/440 [==============================] - ETA: 0s - loss: 0.0700 - accuracy: 0.9695\n",
            "Epoch 00074: val_accuracy did not improve from 0.86824\n",
            "440/440 [==============================] - 26s 59ms/step - loss: 0.0700 - accuracy: 0.9695 - val_loss: 0.9141 - val_accuracy: 0.8563 - lr: 0.0010\n",
            "Epoch 75/100\n",
            "440/440 [==============================] - ETA: 0s - loss: 0.0761 - accuracy: 0.9690\n",
            "Epoch 00075: val_accuracy did not improve from 0.86824\n",
            "440/440 [==============================] - 25s 56ms/step - loss: 0.0761 - accuracy: 0.9690 - val_loss: 0.8464 - val_accuracy: 0.8574 - lr: 0.0010\n",
            "Epoch 76/100\n",
            "440/440 [==============================] - ETA: 0s - loss: 0.0727 - accuracy: 0.9687\n",
            "Epoch 00076: val_accuracy did not improve from 0.86824\n",
            "440/440 [==============================] - 23s 53ms/step - loss: 0.0727 - accuracy: 0.9687 - val_loss: 0.9085 - val_accuracy: 0.8614 - lr: 0.0010\n",
            "Epoch 77/100\n",
            "439/440 [============================>.] - ETA: 0s - loss: 0.0727 - accuracy: 0.9687\n",
            "Epoch 00077: val_accuracy did not improve from 0.86824\n",
            "440/440 [==============================] - 25s 56ms/step - loss: 0.0727 - accuracy: 0.9687 - val_loss: 0.8813 - val_accuracy: 0.8637 - lr: 0.0010\n",
            "Epoch 78/100\n",
            "439/440 [============================>.] - ETA: 0s - loss: 0.0679 - accuracy: 0.9715\n",
            "Epoch 00078: val_accuracy did not improve from 0.86824\n",
            "440/440 [==============================] - 26s 58ms/step - loss: 0.0679 - accuracy: 0.9715 - val_loss: 0.9065 - val_accuracy: 0.8617 - lr: 0.0010\n",
            "Epoch 79/100\n",
            "440/440 [==============================] - ETA: 0s - loss: 0.0728 - accuracy: 0.9688\n",
            "Epoch 00079: val_accuracy did not improve from 0.86824\n",
            "440/440 [==============================] - 26s 59ms/step - loss: 0.0728 - accuracy: 0.9688 - val_loss: 0.9077 - val_accuracy: 0.8625 - lr: 0.0010\n",
            "Epoch 80/100\n",
            "440/440 [==============================] - ETA: 0s - loss: 0.0673 - accuracy: 0.9705\n",
            "Epoch 00080: val_accuracy did not improve from 0.86824\n",
            "440/440 [==============================] - 25s 56ms/step - loss: 0.0673 - accuracy: 0.9705 - val_loss: 0.9493 - val_accuracy: 0.8617 - lr: 0.0010\n",
            "Epoch 81/100\n",
            "439/440 [============================>.] - ETA: 0s - loss: 0.0733 - accuracy: 0.9689\n",
            "Epoch 00081: val_accuracy did not improve from 0.86824\n",
            "440/440 [==============================] - 25s 56ms/step - loss: 0.0733 - accuracy: 0.9689 - val_loss: 0.9455 - val_accuracy: 0.8583 - lr: 0.0010\n",
            "Epoch 82/100\n",
            "440/440 [==============================] - ETA: 0s - loss: 0.0719 - accuracy: 0.9690\n",
            "Epoch 00082: val_accuracy did not improve from 0.86824\n",
            "440/440 [==============================] - 25s 56ms/step - loss: 0.0719 - accuracy: 0.9690 - val_loss: 0.9184 - val_accuracy: 0.8651 - lr: 0.0010\n",
            "Epoch 83/100\n",
            "440/440 [==============================] - ETA: 0s - loss: 0.0703 - accuracy: 0.9684\n",
            "Epoch 00083: val_accuracy did not improve from 0.86824\n",
            "440/440 [==============================] - 26s 59ms/step - loss: 0.0703 - accuracy: 0.9684 - val_loss: 0.9265 - val_accuracy: 0.8577 - lr: 0.0010\n",
            "Epoch 84/100\n",
            "439/440 [============================>.] - ETA: 0s - loss: 0.0713 - accuracy: 0.9686\n",
            "Epoch 00084: val_accuracy did not improve from 0.86824\n",
            "440/440 [==============================] - 26s 59ms/step - loss: 0.0713 - accuracy: 0.9686 - val_loss: 0.9052 - val_accuracy: 0.8594 - lr: 0.0010\n",
            "Epoch 85/100\n",
            "440/440 [==============================] - ETA: 0s - loss: 0.0703 - accuracy: 0.9696\n",
            "Epoch 00085: val_accuracy did not improve from 0.86824\n",
            "440/440 [==============================] - 26s 59ms/step - loss: 0.0703 - accuracy: 0.9696 - val_loss: 0.9630 - val_accuracy: 0.8597 - lr: 0.0010\n",
            "Epoch 86/100\n",
            "439/440 [============================>.] - ETA: 0s - loss: 0.0679 - accuracy: 0.9710\n",
            "Epoch 00086: val_accuracy did not improve from 0.86824\n",
            "440/440 [==============================] - 25s 56ms/step - loss: 0.0678 - accuracy: 0.9710 - val_loss: 0.9826 - val_accuracy: 0.8580 - lr: 0.0010\n",
            "Epoch 87/100\n",
            "440/440 [==============================] - ETA: 0s - loss: 0.0669 - accuracy: 0.9715\n",
            "Epoch 00087: val_accuracy did not improve from 0.86824\n",
            "440/440 [==============================] - 24s 56ms/step - loss: 0.0669 - accuracy: 0.9715 - val_loss: 0.9380 - val_accuracy: 0.8589 - lr: 0.0010\n",
            "Epoch 88/100\n",
            "439/440 [============================>.] - ETA: 0s - loss: 0.0710 - accuracy: 0.9705\n",
            "Epoch 00088: val_accuracy did not improve from 0.86824\n",
            "440/440 [==============================] - 23s 53ms/step - loss: 0.0710 - accuracy: 0.9705 - val_loss: 0.9240 - val_accuracy: 0.8574 - lr: 0.0010\n",
            "Epoch 89/100\n",
            "440/440 [==============================] - ETA: 0s - loss: 0.0708 - accuracy: 0.9698\n",
            "Epoch 00089: val_accuracy did not improve from 0.86824\n",
            "440/440 [==============================] - 26s 59ms/step - loss: 0.0708 - accuracy: 0.9698 - val_loss: 0.9400 - val_accuracy: 0.8557 - lr: 0.0010\n",
            "Epoch 90/100\n",
            "440/440 [==============================] - ETA: 0s - loss: 0.0705 - accuracy: 0.9695\n",
            "Epoch 00090: val_accuracy did not improve from 0.86824\n",
            "440/440 [==============================] - 27s 61ms/step - loss: 0.0705 - accuracy: 0.9695 - val_loss: 0.9507 - val_accuracy: 0.8603 - lr: 0.0010\n",
            "Epoch 91/100\n",
            "439/440 [============================>.] - ETA: 0s - loss: 0.0653 - accuracy: 0.9712\n",
            "Epoch 00091: val_accuracy did not improve from 0.86824\n",
            "440/440 [==============================] - 25s 58ms/step - loss: 0.0653 - accuracy: 0.9712 - val_loss: 0.9168 - val_accuracy: 0.8591 - lr: 0.0010\n",
            "Epoch 92/100\n",
            "440/440 [==============================] - ETA: 0s - loss: 0.0687 - accuracy: 0.9698\n",
            "Epoch 00092: val_accuracy did not improve from 0.86824\n",
            "440/440 [==============================] - 26s 58ms/step - loss: 0.0687 - accuracy: 0.9698 - val_loss: 0.9655 - val_accuracy: 0.8643 - lr: 0.0010\n",
            "Epoch 93/100\n",
            "440/440 [==============================] - ETA: 0s - loss: 0.0683 - accuracy: 0.9712\n",
            "Epoch 00093: val_accuracy did not improve from 0.86824\n",
            "440/440 [==============================] - 25s 56ms/step - loss: 0.0683 - accuracy: 0.9712 - val_loss: 0.9334 - val_accuracy: 0.8600 - lr: 0.0010\n",
            "Epoch 94/100\n",
            "439/440 [============================>.] - ETA: 0s - loss: 0.0694 - accuracy: 0.9684\n",
            "Epoch 00094: val_accuracy did not improve from 0.86824\n",
            "440/440 [==============================] - 25s 56ms/step - loss: 0.0695 - accuracy: 0.9683 - val_loss: 0.9828 - val_accuracy: 0.8620 - lr: 0.0010\n",
            "Epoch 95/100\n",
            "439/440 [============================>.] - ETA: 0s - loss: 0.0642 - accuracy: 0.9713\n",
            "Epoch 00095: val_accuracy did not improve from 0.86824\n",
            "440/440 [==============================] - 24s 54ms/step - loss: 0.0643 - accuracy: 0.9713 - val_loss: 0.9886 - val_accuracy: 0.8606 - lr: 0.0010\n",
            "Epoch 96/100\n",
            "440/440 [==============================] - ETA: 0s - loss: 0.0644 - accuracy: 0.9714\n",
            "Epoch 00096: val_accuracy did not improve from 0.86824\n",
            "440/440 [==============================] - 25s 56ms/step - loss: 0.0644 - accuracy: 0.9714 - val_loss: 1.0043 - val_accuracy: 0.8583 - lr: 0.0010\n",
            "Epoch 97/100\n",
            "440/440 [==============================] - ETA: 0s - loss: 0.0665 - accuracy: 0.9698\n",
            "Epoch 00097: val_accuracy did not improve from 0.86824\n",
            "440/440 [==============================] - 25s 56ms/step - loss: 0.0665 - accuracy: 0.9698 - val_loss: 0.9921 - val_accuracy: 0.8620 - lr: 0.0010\n",
            "Epoch 98/100\n",
            "440/440 [==============================] - ETA: 0s - loss: 0.0682 - accuracy: 0.9708\n",
            "Epoch 00098: val_accuracy did not improve from 0.86824\n",
            "440/440 [==============================] - 26s 58ms/step - loss: 0.0682 - accuracy: 0.9708 - val_loss: 0.9776 - val_accuracy: 0.8589 - lr: 0.0010\n",
            "Epoch 99/100\n",
            "440/440 [==============================] - ETA: 0s - loss: 0.0644 - accuracy: 0.9709\n",
            "Epoch 00099: val_accuracy did not improve from 0.86824\n",
            "440/440 [==============================] - 25s 57ms/step - loss: 0.0644 - accuracy: 0.9709 - val_loss: 0.9926 - val_accuracy: 0.8608 - lr: 0.0010\n",
            "Epoch 100/100\n",
            "440/440 [==============================] - ETA: 0s - loss: 0.0648 - accuracy: 0.9700\n",
            "Epoch 00100: val_accuracy did not improve from 0.86824\n",
            "440/440 [==============================] - 25s 56ms/step - loss: 0.0648 - accuracy: 0.9700 - val_loss: 0.9785 - val_accuracy: 0.8608 - lr: 0.0010\n"
          ]
        }
      ],
      "source": [
        "lr_reduction = ReduceLROnPlateau(\n",
        "    monitor='val_accuracy',\n",
        "    factor=0.2,\n",
        "    patience=5,\n",
        "    min_lr=0.001)\n",
        "\n",
        "model_checkpoint = ModelCheckpoint(\n",
        "    'best_model.h5',\n",
        "    monitor='val_accuracy',\n",
        "    mode='max',\n",
        "    verbose=1,\n",
        "    save_best_only=True)\n",
        "\n",
        "history = model.fit(\n",
        "    X_train, y_train.toarray(),\n",
        "    epochs=100,\n",
        "    validation_data=(X_test, y_test.toarray()),\n",
        "    callbacks=[lr_reduction, model_checkpoint],\n",
        "    verbose=1)"
      ]
    },
    {
      "cell_type": "code",
      "execution_count": null,
      "metadata": {
        "colab": {
          "base_uri": "https://localhost:8080/"
        },
        "id": "YgCdRrt-bcGp",
        "outputId": "c3da776e-cf9c-4e80-9bf2-1343263ff0b4"
      },
      "outputs": [
        {
          "name": "stdout",
          "output_type": "stream",
          "text": [
            "110/110 [==============================] - 0s 2ms/step\n",
            "Accuracy: 0.87\n"
          ]
        }
      ],
      "source": [
        "nn_model = tf.keras.models.load_model(\"nn_model.h5\")\n",
        "y_pred = nn_model.predict(X_test)\n",
        "\n",
        "y_pred_label = label_encoder.inverse_transform(np.argmax(y_pred, axis=1))\n",
        "y_test_label = label_encoder.inverse_transform(np.argmax(y_test.toarray(), axis=1))\n",
        "\n",
        "print(f'Accuracy: {accuracy_score(y_test_label, y_pred_label):.2f}')"
      ]
    },
    {
      "cell_type": "code",
      "execution_count": null,
      "metadata": {
        "colab": {
          "base_uri": "https://localhost:8080/"
        },
        "id": "Cs3GDKvkO5BD",
        "outputId": "2b95fb92-1b81-47b0-8d6d-b14ec7889b8a"
      },
      "outputs": [
        {
          "name": "stdout",
          "output_type": "stream",
          "text": [
            "                    precision    recall  f1-score   support\n",
            "\n",
            "        activities       0.61      0.52      0.56        60\n",
            "        appliances       0.92      0.92      0.92       250\n",
            "           artists       0.72      0.72      0.72        76\n",
            "        automotive       0.92      0.90      0.91       195\n",
            "       cell-phones       0.98      0.97      0.98       356\n",
            "         childcare       0.95      0.91      0.93       196\n",
            "           general       0.74      0.81      0.77       158\n",
            "household-services       0.79      0.90      0.84       265\n",
            "           housing       0.71      0.82      0.76        50\n",
            "       photography       0.95      0.90      0.92       238\n",
            "       real-estate       0.86      0.70      0.77       189\n",
            "            shared       0.81      0.79      0.80       320\n",
            "         temporary       0.70      0.71      0.71       203\n",
            "       therapeutic       0.98      0.98      0.98       419\n",
            "       video-games       0.87      0.92      0.89       228\n",
            "    wanted-housing       0.85      0.83      0.84       311\n",
            "\n",
            "          accuracy                           0.87      3514\n",
            "         macro avg       0.83      0.83      0.83      3514\n",
            "      weighted avg       0.87      0.87      0.87      3514\n",
            "\n"
          ]
        }
      ],
      "source": [
        "report = classification_report(y_test_label, y_pred_label)\n",
        "print(report)"
      ]
    },
    {
      "cell_type": "code",
      "execution_count": null,
      "metadata": {
        "colab": {
          "base_uri": "https://localhost:8080/"
        },
        "id": "CrxPxtfHL-TJ",
        "outputId": "bea902b9-36a5-4432-a86a-dd90e53bd3ca"
      },
      "outputs": [
        {
          "name": "stderr",
          "output_type": "stream",
          "text": [
            "/usr/local/lib/python3.10/dist-packages/sklearn/preprocessing/_encoders.py:868: FutureWarning: `sparse` was renamed to `sparse_output` in version 1.2 and will be removed in 1.4. `sparse_output` is ignored unless you leave `sparse` to its default value.\n",
            "  warnings.warn(\n",
            "/usr/local/lib/python3.10/dist-packages/sklearn/preprocessing/_encoders.py:868: FutureWarning: `sparse` was renamed to `sparse_output` in version 1.2 and will be removed in 1.4. `sparse_output` is ignored unless you leave `sparse` to its default value.\n",
            "  warnings.warn(\n"
          ]
        },
        {
          "name": "stdout",
          "output_type": "stream",
          "text": [
            "481/481 [==============================] - 2s 3ms/step\n"
          ]
        },
        {
          "data": {
            "text/plain": [
              "wanted-housing        2546\n",
              "appliances            1518\n",
              "general               1474\n",
              "photography           1451\n",
              "household-services    1443\n",
              "therapeutic           1281\n",
              "shared                1240\n",
              "automotive            1028\n",
              "video-games            768\n",
              "cell-phones            662\n",
              "real-estate            562\n",
              "artists                474\n",
              "temporary              434\n",
              "activities             200\n",
              "childcare              198\n",
              "housing                 91\n",
              "Name: category, dtype: int64"
            ]
          },
          "execution_count": 31,
          "metadata": {},
          "output_type": "execute_result"
        }
      ],
      "source": [
        "X_new_sample = preprocessing(test_data)\n",
        "new_heading = nn_model.predict(X_new_sample)\n",
        "test_data[\"category\"] = label_encoder.inverse_transform(np.argmax(new_heading, axis=1))\n",
        "test_data.category.value_counts()"
      ]
    },
    {
      "cell_type": "code",
      "execution_count": null,
      "metadata": {
        "colab": {
          "base_uri": "https://localhost:8080/"
        },
        "id": "FiAXdccmKzYk",
        "outputId": "37cbe7d7-d8ba-4073-e576-a3c89e8e5e23"
      },
      "outputs": [
        {
          "name": "stderr",
          "output_type": "stream",
          "text": [
            "/usr/local/lib/python3.10/dist-packages/sklearn/preprocessing/_encoders.py:868: FutureWarning: `sparse` was renamed to `sparse_output` in version 1.2 and will be removed in 1.4. `sparse_output` is ignored unless you leave `sparse` to its default value.\n",
            "  warnings.warn(\n",
            "/usr/local/lib/python3.10/dist-packages/sklearn/preprocessing/_encoders.py:868: FutureWarning: `sparse` was renamed to `sparse_output` in version 1.2 and will be removed in 1.4. `sparse_output` is ignored unless you leave `sparse` to its default value.\n",
            "  warnings.warn(\n"
          ]
        },
        {
          "data": {
            "text/plain": [
              "video-games           2235\n",
              "wanted-housing        1616\n",
              "therapeutic           1492\n",
              "shared                1230\n",
              "automotive            1180\n",
              "general               1125\n",
              "appliances            1033\n",
              "real-estate            876\n",
              "housing                866\n",
              "household-services     760\n",
              "photography            716\n",
              "activities             682\n",
              "temporary              618\n",
              "cell-phones            409\n",
              "artists                316\n",
              "childcare              216\n",
              "Name: category, dtype: int64"
            ]
          },
          "execution_count": 36,
          "metadata": {},
          "output_type": "execute_result"
        }
      ],
      "source": [
        "with open(\"ml_model.h5\",\"rb\") as m:\n",
        "    ml_model = pickle.load(m)\n",
        "\n",
        "X_new_sample = preprocessing(test_data)\n",
        "new_heading = ml_model.predict(X_new_sample)\n",
        "test_data[\"category\"] = new_heading\n",
        "test_data.category.value_counts()"
      ]
    },
    {
      "cell_type": "code",
      "execution_count": null,
      "metadata": {
        "colab": {
          "base_uri": "https://localhost:8080/",
          "height": 682
        },
        "id": "zlcztvA0KzYt",
        "outputId": "3d3b553b-bb3e-494d-e262-c08bf7ae343c"
      },
      "outputs": [
        {
          "data": {
            "application/vnd.google.colaboratory.intrinsic+json": {
              "summary": "{\n  \"name\": \"test_data\",\n  \"rows\": 15370,\n  \"fields\": [\n    {\n      \"column\": \"city\",\n      \"properties\": {\n        \"dtype\": \"category\",\n        \"num_unique_values\": 16,\n        \"samples\": [\n          \"chicago\",\n          \"paris.en\",\n          \"dubai.en\"\n        ],\n        \"semantic_type\": \"\",\n        \"description\": \"\"\n      }\n    },\n    {\n      \"column\": \"section\",\n      \"properties\": {\n        \"dtype\": \"category\",\n        \"num_unique_values\": 4,\n        \"samples\": [\n          \"housing\",\n          \"community\",\n          \"for-sale\"\n        ],\n        \"semantic_type\": \"\",\n        \"description\": \"\"\n      }\n    },\n    {\n      \"column\": \"heading\",\n      \"properties\": {\n        \"dtype\": \"string\",\n        \"num_unique_values\": 11196,\n        \"samples\": [\n          \"apt sharing masterbedroom\",\n          \"htc mytouch\",\n          \"awesome child care licensed home\"\n        ],\n        \"semantic_type\": \"\",\n        \"description\": \"\"\n      }\n    },\n    {\n      \"column\": \"category\",\n      \"properties\": {\n        \"dtype\": \"category\",\n        \"num_unique_values\": 16,\n        \"samples\": [\n          \"photography\",\n          \"temporary\",\n          \"video-games\"\n        ],\n        \"semantic_type\": \"\",\n        \"description\": \"\"\n      }\n    }\n  ]\n}",
              "type": "dataframe",
              "variable_name": "test_data"
            },
            "text/html": [
              "\n",
              "  <div id=\"df-2c1c0ac5-2f39-4733-a880-940eb180cf5b\" class=\"colab-df-container\">\n",
              "    <div>\n",
              "<style scoped>\n",
              "    .dataframe tbody tr th:only-of-type {\n",
              "        vertical-align: middle;\n",
              "    }\n",
              "\n",
              "    .dataframe tbody tr th {\n",
              "        vertical-align: top;\n",
              "    }\n",
              "\n",
              "    .dataframe thead th {\n",
              "        text-align: right;\n",
              "    }\n",
              "</style>\n",
              "<table border=\"1\" class=\"dataframe\">\n",
              "  <thead>\n",
              "    <tr style=\"text-align: right;\">\n",
              "      <th></th>\n",
              "      <th>city</th>\n",
              "      <th>section</th>\n",
              "      <th>heading</th>\n",
              "      <th>category</th>\n",
              "    </tr>\n",
              "  </thead>\n",
              "  <tbody>\n",
              "    <tr>\n",
              "      <th>0</th>\n",
              "      <td>chicago</td>\n",
              "      <td>for-sale</td>\n",
              "      <td>madden nfl xbox brand new</td>\n",
              "      <td>photography</td>\n",
              "    </tr>\n",
              "    <tr>\n",
              "      <th>1</th>\n",
              "      <td>paris.en</td>\n",
              "      <td>housing</td>\n",
              "      <td>looking room rent</td>\n",
              "      <td>temporary</td>\n",
              "    </tr>\n",
              "    <tr>\n",
              "      <th>2</th>\n",
              "      <td>newyork</td>\n",
              "      <td>for-sale</td>\n",
              "      <td>two d game</td>\n",
              "      <td>appliances</td>\n",
              "    </tr>\n",
              "    <tr>\n",
              "      <th>3</th>\n",
              "      <td>seattle</td>\n",
              "      <td>housing</td>\n",
              "      <td>map</td>\n",
              "      <td>wanted-housing</td>\n",
              "    </tr>\n",
              "    <tr>\n",
              "      <th>4</th>\n",
              "      <td>singapore</td>\n",
              "      <td>services</td>\n",
              "      <td>good looking asian sensation aughty girl indep...</td>\n",
              "      <td>therapeutic</td>\n",
              "    </tr>\n",
              "    <tr>\n",
              "      <th>...</th>\n",
              "      <td>...</td>\n",
              "      <td>...</td>\n",
              "      <td>...</td>\n",
              "      <td>...</td>\n",
              "    </tr>\n",
              "    <tr>\n",
              "      <th>15365</th>\n",
              "      <td>newyork</td>\n",
              "      <td>services</td>\n",
              "      <td>nissan ud isuzu npr fuso hino truck amp auto part</td>\n",
              "      <td>automotive</td>\n",
              "    </tr>\n",
              "    <tr>\n",
              "      <th>15366</th>\n",
              "      <td>seattle</td>\n",
              "      <td>for-sale</td>\n",
              "      <td>map</td>\n",
              "      <td>video-games</td>\n",
              "    </tr>\n",
              "    <tr>\n",
              "      <th>15367</th>\n",
              "      <td>seattle</td>\n",
              "      <td>services</td>\n",
              "      <td>old school upholstery amp repair</td>\n",
              "      <td>automotive</td>\n",
              "    </tr>\n",
              "    <tr>\n",
              "      <th>15368</th>\n",
              "      <td>newyork</td>\n",
              "      <td>for-sale</td>\n",
              "      <td>lg super capacity cuft french door refrigerato...</td>\n",
              "      <td>photography</td>\n",
              "    </tr>\n",
              "    <tr>\n",
              "      <th>15369</th>\n",
              "      <td>seattle</td>\n",
              "      <td>for-sale</td>\n",
              "      <td>wii udraw pictionary udraw board</td>\n",
              "      <td>video-games</td>\n",
              "    </tr>\n",
              "  </tbody>\n",
              "</table>\n",
              "<p>15370 rows × 4 columns</p>\n",
              "</div>\n",
              "    <div class=\"colab-df-buttons\">\n",
              "\n",
              "  <div class=\"colab-df-container\">\n",
              "    <button class=\"colab-df-convert\" onclick=\"convertToInteractive('df-2c1c0ac5-2f39-4733-a880-940eb180cf5b')\"\n",
              "            title=\"Convert this dataframe to an interactive table.\"\n",
              "            style=\"display:none;\">\n",
              "\n",
              "  <svg xmlns=\"http://www.w3.org/2000/svg\" height=\"24px\" viewBox=\"0 -960 960 960\">\n",
              "    <path d=\"M120-120v-720h720v720H120Zm60-500h600v-160H180v160Zm220 220h160v-160H400v160Zm0 220h160v-160H400v160ZM180-400h160v-160H180v160Zm440 0h160v-160H620v160ZM180-180h160v-160H180v160Zm440 0h160v-160H620v160Z\"/>\n",
              "  </svg>\n",
              "    </button>\n",
              "\n",
              "  <style>\n",
              "    .colab-df-container {\n",
              "      display:flex;\n",
              "      gap: 12px;\n",
              "    }\n",
              "\n",
              "    .colab-df-convert {\n",
              "      background-color: #E8F0FE;\n",
              "      border: none;\n",
              "      border-radius: 50%;\n",
              "      cursor: pointer;\n",
              "      display: none;\n",
              "      fill: #1967D2;\n",
              "      height: 32px;\n",
              "      padding: 0 0 0 0;\n",
              "      width: 32px;\n",
              "    }\n",
              "\n",
              "    .colab-df-convert:hover {\n",
              "      background-color: #E2EBFA;\n",
              "      box-shadow: 0px 1px 2px rgba(60, 64, 67, 0.3), 0px 1px 3px 1px rgba(60, 64, 67, 0.15);\n",
              "      fill: #174EA6;\n",
              "    }\n",
              "\n",
              "    .colab-df-buttons div {\n",
              "      margin-bottom: 4px;\n",
              "    }\n",
              "\n",
              "    [theme=dark] .colab-df-convert {\n",
              "      background-color: #3B4455;\n",
              "      fill: #D2E3FC;\n",
              "    }\n",
              "\n",
              "    [theme=dark] .colab-df-convert:hover {\n",
              "      background-color: #434B5C;\n",
              "      box-shadow: 0px 1px 3px 1px rgba(0, 0, 0, 0.15);\n",
              "      filter: drop-shadow(0px 1px 2px rgba(0, 0, 0, 0.3));\n",
              "      fill: #FFFFFF;\n",
              "    }\n",
              "  </style>\n",
              "\n",
              "    <script>\n",
              "      const buttonEl =\n",
              "        document.querySelector('#df-2c1c0ac5-2f39-4733-a880-940eb180cf5b button.colab-df-convert');\n",
              "      buttonEl.style.display =\n",
              "        google.colab.kernel.accessAllowed ? 'block' : 'none';\n",
              "\n",
              "      async function convertToInteractive(key) {\n",
              "        const element = document.querySelector('#df-2c1c0ac5-2f39-4733-a880-940eb180cf5b');\n",
              "        const dataTable =\n",
              "          await google.colab.kernel.invokeFunction('convertToInteractive',\n",
              "                                                    [key], {});\n",
              "        if (!dataTable) return;\n",
              "\n",
              "        const docLinkHtml = 'Like what you see? Visit the ' +\n",
              "          '<a target=\"_blank\" href=https://colab.research.google.com/notebooks/data_table.ipynb>data table notebook</a>'\n",
              "          + ' to learn more about interactive tables.';\n",
              "        element.innerHTML = '';\n",
              "        dataTable['output_type'] = 'display_data';\n",
              "        await google.colab.output.renderOutput(dataTable, element);\n",
              "        const docLink = document.createElement('div');\n",
              "        docLink.innerHTML = docLinkHtml;\n",
              "        element.appendChild(docLink);\n",
              "      }\n",
              "    </script>\n",
              "  </div>\n",
              "\n",
              "\n",
              "<div id=\"df-2440a02e-7018-43f4-8bce-ba956d18573b\">\n",
              "  <button class=\"colab-df-quickchart\" onclick=\"quickchart('df-2440a02e-7018-43f4-8bce-ba956d18573b')\"\n",
              "            title=\"Suggest charts\"\n",
              "            style=\"display:none;\">\n",
              "\n",
              "<svg xmlns=\"http://www.w3.org/2000/svg\" height=\"24px\"viewBox=\"0 0 24 24\"\n",
              "     width=\"24px\">\n",
              "    <g>\n",
              "        <path d=\"M19 3H5c-1.1 0-2 .9-2 2v14c0 1.1.9 2 2 2h14c1.1 0 2-.9 2-2V5c0-1.1-.9-2-2-2zM9 17H7v-7h2v7zm4 0h-2V7h2v10zm4 0h-2v-4h2v4z\"/>\n",
              "    </g>\n",
              "</svg>\n",
              "  </button>\n",
              "\n",
              "<style>\n",
              "  .colab-df-quickchart {\n",
              "      --bg-color: #E8F0FE;\n",
              "      --fill-color: #1967D2;\n",
              "      --hover-bg-color: #E2EBFA;\n",
              "      --hover-fill-color: #174EA6;\n",
              "      --disabled-fill-color: #AAA;\n",
              "      --disabled-bg-color: #DDD;\n",
              "  }\n",
              "\n",
              "  [theme=dark] .colab-df-quickchart {\n",
              "      --bg-color: #3B4455;\n",
              "      --fill-color: #D2E3FC;\n",
              "      --hover-bg-color: #434B5C;\n",
              "      --hover-fill-color: #FFFFFF;\n",
              "      --disabled-bg-color: #3B4455;\n",
              "      --disabled-fill-color: #666;\n",
              "  }\n",
              "\n",
              "  .colab-df-quickchart {\n",
              "    background-color: var(--bg-color);\n",
              "    border: none;\n",
              "    border-radius: 50%;\n",
              "    cursor: pointer;\n",
              "    display: none;\n",
              "    fill: var(--fill-color);\n",
              "    height: 32px;\n",
              "    padding: 0;\n",
              "    width: 32px;\n",
              "  }\n",
              "\n",
              "  .colab-df-quickchart:hover {\n",
              "    background-color: var(--hover-bg-color);\n",
              "    box-shadow: 0 1px 2px rgba(60, 64, 67, 0.3), 0 1px 3px 1px rgba(60, 64, 67, 0.15);\n",
              "    fill: var(--button-hover-fill-color);\n",
              "  }\n",
              "\n",
              "  .colab-df-quickchart-complete:disabled,\n",
              "  .colab-df-quickchart-complete:disabled:hover {\n",
              "    background-color: var(--disabled-bg-color);\n",
              "    fill: var(--disabled-fill-color);\n",
              "    box-shadow: none;\n",
              "  }\n",
              "\n",
              "  .colab-df-spinner {\n",
              "    border: 2px solid var(--fill-color);\n",
              "    border-color: transparent;\n",
              "    border-bottom-color: var(--fill-color);\n",
              "    animation:\n",
              "      spin 1s steps(1) infinite;\n",
              "  }\n",
              "\n",
              "  @keyframes spin {\n",
              "    0% {\n",
              "      border-color: transparent;\n",
              "      border-bottom-color: var(--fill-color);\n",
              "      border-left-color: var(--fill-color);\n",
              "    }\n",
              "    20% {\n",
              "      border-color: transparent;\n",
              "      border-left-color: var(--fill-color);\n",
              "      border-top-color: var(--fill-color);\n",
              "    }\n",
              "    30% {\n",
              "      border-color: transparent;\n",
              "      border-left-color: var(--fill-color);\n",
              "      border-top-color: var(--fill-color);\n",
              "      border-right-color: var(--fill-color);\n",
              "    }\n",
              "    40% {\n",
              "      border-color: transparent;\n",
              "      border-right-color: var(--fill-color);\n",
              "      border-top-color: var(--fill-color);\n",
              "    }\n",
              "    60% {\n",
              "      border-color: transparent;\n",
              "      border-right-color: var(--fill-color);\n",
              "    }\n",
              "    80% {\n",
              "      border-color: transparent;\n",
              "      border-right-color: var(--fill-color);\n",
              "      border-bottom-color: var(--fill-color);\n",
              "    }\n",
              "    90% {\n",
              "      border-color: transparent;\n",
              "      border-bottom-color: var(--fill-color);\n",
              "    }\n",
              "  }\n",
              "</style>\n",
              "\n",
              "  <script>\n",
              "    async function quickchart(key) {\n",
              "      const quickchartButtonEl =\n",
              "        document.querySelector('#' + key + ' button');\n",
              "      quickchartButtonEl.disabled = true;  // To prevent multiple clicks.\n",
              "      quickchartButtonEl.classList.add('colab-df-spinner');\n",
              "      try {\n",
              "        const charts = await google.colab.kernel.invokeFunction(\n",
              "            'suggestCharts', [key], {});\n",
              "      } catch (error) {\n",
              "        console.error('Error during call to suggestCharts:', error);\n",
              "      }\n",
              "      quickchartButtonEl.classList.remove('colab-df-spinner');\n",
              "      quickchartButtonEl.classList.add('colab-df-quickchart-complete');\n",
              "    }\n",
              "    (() => {\n",
              "      let quickchartButtonEl =\n",
              "        document.querySelector('#df-2440a02e-7018-43f4-8bce-ba956d18573b button');\n",
              "      quickchartButtonEl.style.display =\n",
              "        google.colab.kernel.accessAllowed ? 'block' : 'none';\n",
              "    })();\n",
              "  </script>\n",
              "</div>\n",
              "    </div>\n",
              "  </div>\n"
            ],
            "text/plain": [
              "            city   section                                            heading  \\\n",
              "0        chicago  for-sale                          madden nfl xbox brand new   \n",
              "1       paris.en   housing                                  looking room rent   \n",
              "2        newyork  for-sale                                         two d game   \n",
              "3        seattle   housing                                                map   \n",
              "4      singapore  services  good looking asian sensation aughty girl indep...   \n",
              "...          ...       ...                                                ...   \n",
              "15365    newyork  services  nissan ud isuzu npr fuso hino truck amp auto part   \n",
              "15366    seattle  for-sale                                                map   \n",
              "15367    seattle  services                   old school upholstery amp repair   \n",
              "15368    newyork  for-sale  lg super capacity cuft french door refrigerato...   \n",
              "15369    seattle  for-sale                   wii udraw pictionary udraw board   \n",
              "\n",
              "             category  \n",
              "0         photography  \n",
              "1           temporary  \n",
              "2          appliances  \n",
              "3      wanted-housing  \n",
              "4         therapeutic  \n",
              "...               ...  \n",
              "15365      automotive  \n",
              "15366     video-games  \n",
              "15367      automotive  \n",
              "15368     photography  \n",
              "15369     video-games  \n",
              "\n",
              "[15370 rows x 4 columns]"
            ]
          },
          "execution_count": 37,
          "metadata": {},
          "output_type": "execute_result"
        }
      ],
      "source": [
        "test_data"
      ]
    },
    {
      "cell_type": "code",
      "execution_count": null,
      "metadata": {
        "colab": {
          "base_uri": "https://localhost:8080/"
        },
        "id": "5P114legKzYt",
        "outputId": "74edbe52-2c61-4e11-d664-0ea5c1c1ed6e"
      },
      "outputs": [
        {
          "name": "stderr",
          "output_type": "stream",
          "text": [
            "/usr/local/lib/python3.10/dist-packages/sklearn/preprocessing/_encoders.py:868: FutureWarning: `sparse` was renamed to `sparse_output` in version 1.2 and will be removed in 1.4. `sparse_output` is ignored unless you leave `sparse` to its default value.\n",
            "  warnings.warn(\n",
            "/usr/local/lib/python3.10/dist-packages/sklearn/preprocessing/_encoders.py:868: FutureWarning: `sparse` was renamed to `sparse_output` in version 1.2 and will be removed in 1.4. `sparse_output` is ignored unless you leave `sparse` to its default value.\n",
            "  warnings.warn(\n"
          ]
        },
        {
          "name": "stdout",
          "output_type": "stream",
          "text": [
            "481/481 [==============================] - 1s 2ms/step\n"
          ]
        },
        {
          "data": {
            "text/plain": [
              "wanted-housing        2546\n",
              "appliances            1518\n",
              "general               1474\n",
              "photography           1451\n",
              "household-services    1443\n",
              "therapeutic           1281\n",
              "shared                1240\n",
              "automotive            1028\n",
              "video-games            768\n",
              "cell-phones            662\n",
              "real-estate            562\n",
              "artists                474\n",
              "temporary              434\n",
              "activities             200\n",
              "childcare              198\n",
              "housing                 91\n",
              "Name: category, dtype: int64"
            ]
          },
          "execution_count": 42,
          "metadata": {},
          "output_type": "execute_result"
        }
      ],
      "source": [
        "nn_model = tf.keras.models.load_model(\"nn_model.h5\")\n",
        "\n",
        "X_new_sample = preprocessing(test_data)\n",
        "new_heading = nn_model.predict(X_new_sample)\n",
        "test_data[\"category\"] = label_encoder.inverse_transform(np.argmax(new_heading, axis=1))\n",
        "test_data.category.value_counts()"
      ]
    },
    {
      "cell_type": "code",
      "execution_count": null,
      "metadata": {
        "colab": {
          "base_uri": "https://localhost:8080/",
          "height": 682
        },
        "id": "tswh-4bvQTlj",
        "outputId": "2a248926-62c7-4451-cd7c-b381758a9dcc"
      },
      "outputs": [
        {
          "data": {
            "application/vnd.google.colaboratory.intrinsic+json": {
              "summary": "{\n  \"name\": \"test_data\",\n  \"rows\": 15370,\n  \"fields\": [\n    {\n      \"column\": \"city\",\n      \"properties\": {\n        \"dtype\": \"category\",\n        \"num_unique_values\": 16,\n        \"samples\": [\n          \"chicago\",\n          \"paris.en\",\n          \"dubai.en\"\n        ],\n        \"semantic_type\": \"\",\n        \"description\": \"\"\n      }\n    },\n    {\n      \"column\": \"section\",\n      \"properties\": {\n        \"dtype\": \"category\",\n        \"num_unique_values\": 4,\n        \"samples\": [\n          \"housing\",\n          \"community\",\n          \"for-sale\"\n        ],\n        \"semantic_type\": \"\",\n        \"description\": \"\"\n      }\n    },\n    {\n      \"column\": \"heading\",\n      \"properties\": {\n        \"dtype\": \"string\",\n        \"num_unique_values\": 11196,\n        \"samples\": [\n          \"apt sharing masterbedroom\",\n          \"htc mytouch\",\n          \"awesome child care licensed home\"\n        ],\n        \"semantic_type\": \"\",\n        \"description\": \"\"\n      }\n    },\n    {\n      \"column\": \"category\",\n      \"properties\": {\n        \"dtype\": \"category\",\n        \"num_unique_values\": 16,\n        \"samples\": [\n          \"video-games\",\n          \"temporary\",\n          \"photography\"\n        ],\n        \"semantic_type\": \"\",\n        \"description\": \"\"\n      }\n    }\n  ]\n}",
              "type": "dataframe",
              "variable_name": "test_data"
            },
            "text/html": [
              "\n",
              "  <div id=\"df-573112cc-96ea-43cd-bbe9-cc0e33177cc8\" class=\"colab-df-container\">\n",
              "    <div>\n",
              "<style scoped>\n",
              "    .dataframe tbody tr th:only-of-type {\n",
              "        vertical-align: middle;\n",
              "    }\n",
              "\n",
              "    .dataframe tbody tr th {\n",
              "        vertical-align: top;\n",
              "    }\n",
              "\n",
              "    .dataframe thead th {\n",
              "        text-align: right;\n",
              "    }\n",
              "</style>\n",
              "<table border=\"1\" class=\"dataframe\">\n",
              "  <thead>\n",
              "    <tr style=\"text-align: right;\">\n",
              "      <th></th>\n",
              "      <th>city</th>\n",
              "      <th>section</th>\n",
              "      <th>heading</th>\n",
              "      <th>category</th>\n",
              "    </tr>\n",
              "  </thead>\n",
              "  <tbody>\n",
              "    <tr>\n",
              "      <th>0</th>\n",
              "      <td>chicago</td>\n",
              "      <td>for-sale</td>\n",
              "      <td>madden nfl xbox brand new</td>\n",
              "      <td>video-games</td>\n",
              "    </tr>\n",
              "    <tr>\n",
              "      <th>1</th>\n",
              "      <td>paris.en</td>\n",
              "      <td>housing</td>\n",
              "      <td>looking room rent</td>\n",
              "      <td>temporary</td>\n",
              "    </tr>\n",
              "    <tr>\n",
              "      <th>2</th>\n",
              "      <td>newyork</td>\n",
              "      <td>for-sale</td>\n",
              "      <td>two d game</td>\n",
              "      <td>appliances</td>\n",
              "    </tr>\n",
              "    <tr>\n",
              "      <th>3</th>\n",
              "      <td>seattle</td>\n",
              "      <td>housing</td>\n",
              "      <td>map</td>\n",
              "      <td>wanted-housing</td>\n",
              "    </tr>\n",
              "    <tr>\n",
              "      <th>4</th>\n",
              "      <td>singapore</td>\n",
              "      <td>services</td>\n",
              "      <td>good looking asian sensation aughty girl indep...</td>\n",
              "      <td>household-services</td>\n",
              "    </tr>\n",
              "    <tr>\n",
              "      <th>...</th>\n",
              "      <td>...</td>\n",
              "      <td>...</td>\n",
              "      <td>...</td>\n",
              "      <td>...</td>\n",
              "    </tr>\n",
              "    <tr>\n",
              "      <th>15365</th>\n",
              "      <td>newyork</td>\n",
              "      <td>services</td>\n",
              "      <td>nissan ud isuzu npr fuso hino truck amp auto part</td>\n",
              "      <td>automotive</td>\n",
              "    </tr>\n",
              "    <tr>\n",
              "      <th>15366</th>\n",
              "      <td>seattle</td>\n",
              "      <td>for-sale</td>\n",
              "      <td>map</td>\n",
              "      <td>photography</td>\n",
              "    </tr>\n",
              "    <tr>\n",
              "      <th>15367</th>\n",
              "      <td>seattle</td>\n",
              "      <td>services</td>\n",
              "      <td>old school upholstery amp repair</td>\n",
              "      <td>household-services</td>\n",
              "    </tr>\n",
              "    <tr>\n",
              "      <th>15368</th>\n",
              "      <td>newyork</td>\n",
              "      <td>for-sale</td>\n",
              "      <td>lg super capacity cuft french door refrigerato...</td>\n",
              "      <td>photography</td>\n",
              "    </tr>\n",
              "    <tr>\n",
              "      <th>15369</th>\n",
              "      <td>seattle</td>\n",
              "      <td>for-sale</td>\n",
              "      <td>wii udraw pictionary udraw board</td>\n",
              "      <td>video-games</td>\n",
              "    </tr>\n",
              "  </tbody>\n",
              "</table>\n",
              "<p>15370 rows × 4 columns</p>\n",
              "</div>\n",
              "    <div class=\"colab-df-buttons\">\n",
              "\n",
              "  <div class=\"colab-df-container\">\n",
              "    <button class=\"colab-df-convert\" onclick=\"convertToInteractive('df-573112cc-96ea-43cd-bbe9-cc0e33177cc8')\"\n",
              "            title=\"Convert this dataframe to an interactive table.\"\n",
              "            style=\"display:none;\">\n",
              "\n",
              "  <svg xmlns=\"http://www.w3.org/2000/svg\" height=\"24px\" viewBox=\"0 -960 960 960\">\n",
              "    <path d=\"M120-120v-720h720v720H120Zm60-500h600v-160H180v160Zm220 220h160v-160H400v160Zm0 220h160v-160H400v160ZM180-400h160v-160H180v160Zm440 0h160v-160H620v160ZM180-180h160v-160H180v160Zm440 0h160v-160H620v160Z\"/>\n",
              "  </svg>\n",
              "    </button>\n",
              "\n",
              "  <style>\n",
              "    .colab-df-container {\n",
              "      display:flex;\n",
              "      gap: 12px;\n",
              "    }\n",
              "\n",
              "    .colab-df-convert {\n",
              "      background-color: #E8F0FE;\n",
              "      border: none;\n",
              "      border-radius: 50%;\n",
              "      cursor: pointer;\n",
              "      display: none;\n",
              "      fill: #1967D2;\n",
              "      height: 32px;\n",
              "      padding: 0 0 0 0;\n",
              "      width: 32px;\n",
              "    }\n",
              "\n",
              "    .colab-df-convert:hover {\n",
              "      background-color: #E2EBFA;\n",
              "      box-shadow: 0px 1px 2px rgba(60, 64, 67, 0.3), 0px 1px 3px 1px rgba(60, 64, 67, 0.15);\n",
              "      fill: #174EA6;\n",
              "    }\n",
              "\n",
              "    .colab-df-buttons div {\n",
              "      margin-bottom: 4px;\n",
              "    }\n",
              "\n",
              "    [theme=dark] .colab-df-convert {\n",
              "      background-color: #3B4455;\n",
              "      fill: #D2E3FC;\n",
              "    }\n",
              "\n",
              "    [theme=dark] .colab-df-convert:hover {\n",
              "      background-color: #434B5C;\n",
              "      box-shadow: 0px 1px 3px 1px rgba(0, 0, 0, 0.15);\n",
              "      filter: drop-shadow(0px 1px 2px rgba(0, 0, 0, 0.3));\n",
              "      fill: #FFFFFF;\n",
              "    }\n",
              "  </style>\n",
              "\n",
              "    <script>\n",
              "      const buttonEl =\n",
              "        document.querySelector('#df-573112cc-96ea-43cd-bbe9-cc0e33177cc8 button.colab-df-convert');\n",
              "      buttonEl.style.display =\n",
              "        google.colab.kernel.accessAllowed ? 'block' : 'none';\n",
              "\n",
              "      async function convertToInteractive(key) {\n",
              "        const element = document.querySelector('#df-573112cc-96ea-43cd-bbe9-cc0e33177cc8');\n",
              "        const dataTable =\n",
              "          await google.colab.kernel.invokeFunction('convertToInteractive',\n",
              "                                                    [key], {});\n",
              "        if (!dataTable) return;\n",
              "\n",
              "        const docLinkHtml = 'Like what you see? Visit the ' +\n",
              "          '<a target=\"_blank\" href=https://colab.research.google.com/notebooks/data_table.ipynb>data table notebook</a>'\n",
              "          + ' to learn more about interactive tables.';\n",
              "        element.innerHTML = '';\n",
              "        dataTable['output_type'] = 'display_data';\n",
              "        await google.colab.output.renderOutput(dataTable, element);\n",
              "        const docLink = document.createElement('div');\n",
              "        docLink.innerHTML = docLinkHtml;\n",
              "        element.appendChild(docLink);\n",
              "      }\n",
              "    </script>\n",
              "  </div>\n",
              "\n",
              "\n",
              "<div id=\"df-b43bd6ee-3491-4a6c-88ff-768e9637f808\">\n",
              "  <button class=\"colab-df-quickchart\" onclick=\"quickchart('df-b43bd6ee-3491-4a6c-88ff-768e9637f808')\"\n",
              "            title=\"Suggest charts\"\n",
              "            style=\"display:none;\">\n",
              "\n",
              "<svg xmlns=\"http://www.w3.org/2000/svg\" height=\"24px\"viewBox=\"0 0 24 24\"\n",
              "     width=\"24px\">\n",
              "    <g>\n",
              "        <path d=\"M19 3H5c-1.1 0-2 .9-2 2v14c0 1.1.9 2 2 2h14c1.1 0 2-.9 2-2V5c0-1.1-.9-2-2-2zM9 17H7v-7h2v7zm4 0h-2V7h2v10zm4 0h-2v-4h2v4z\"/>\n",
              "    </g>\n",
              "</svg>\n",
              "  </button>\n",
              "\n",
              "<style>\n",
              "  .colab-df-quickchart {\n",
              "      --bg-color: #E8F0FE;\n",
              "      --fill-color: #1967D2;\n",
              "      --hover-bg-color: #E2EBFA;\n",
              "      --hover-fill-color: #174EA6;\n",
              "      --disabled-fill-color: #AAA;\n",
              "      --disabled-bg-color: #DDD;\n",
              "  }\n",
              "\n",
              "  [theme=dark] .colab-df-quickchart {\n",
              "      --bg-color: #3B4455;\n",
              "      --fill-color: #D2E3FC;\n",
              "      --hover-bg-color: #434B5C;\n",
              "      --hover-fill-color: #FFFFFF;\n",
              "      --disabled-bg-color: #3B4455;\n",
              "      --disabled-fill-color: #666;\n",
              "  }\n",
              "\n",
              "  .colab-df-quickchart {\n",
              "    background-color: var(--bg-color);\n",
              "    border: none;\n",
              "    border-radius: 50%;\n",
              "    cursor: pointer;\n",
              "    display: none;\n",
              "    fill: var(--fill-color);\n",
              "    height: 32px;\n",
              "    padding: 0;\n",
              "    width: 32px;\n",
              "  }\n",
              "\n",
              "  .colab-df-quickchart:hover {\n",
              "    background-color: var(--hover-bg-color);\n",
              "    box-shadow: 0 1px 2px rgba(60, 64, 67, 0.3), 0 1px 3px 1px rgba(60, 64, 67, 0.15);\n",
              "    fill: var(--button-hover-fill-color);\n",
              "  }\n",
              "\n",
              "  .colab-df-quickchart-complete:disabled,\n",
              "  .colab-df-quickchart-complete:disabled:hover {\n",
              "    background-color: var(--disabled-bg-color);\n",
              "    fill: var(--disabled-fill-color);\n",
              "    box-shadow: none;\n",
              "  }\n",
              "\n",
              "  .colab-df-spinner {\n",
              "    border: 2px solid var(--fill-color);\n",
              "    border-color: transparent;\n",
              "    border-bottom-color: var(--fill-color);\n",
              "    animation:\n",
              "      spin 1s steps(1) infinite;\n",
              "  }\n",
              "\n",
              "  @keyframes spin {\n",
              "    0% {\n",
              "      border-color: transparent;\n",
              "      border-bottom-color: var(--fill-color);\n",
              "      border-left-color: var(--fill-color);\n",
              "    }\n",
              "    20% {\n",
              "      border-color: transparent;\n",
              "      border-left-color: var(--fill-color);\n",
              "      border-top-color: var(--fill-color);\n",
              "    }\n",
              "    30% {\n",
              "      border-color: transparent;\n",
              "      border-left-color: var(--fill-color);\n",
              "      border-top-color: var(--fill-color);\n",
              "      border-right-color: var(--fill-color);\n",
              "    }\n",
              "    40% {\n",
              "      border-color: transparent;\n",
              "      border-right-color: var(--fill-color);\n",
              "      border-top-color: var(--fill-color);\n",
              "    }\n",
              "    60% {\n",
              "      border-color: transparent;\n",
              "      border-right-color: var(--fill-color);\n",
              "    }\n",
              "    80% {\n",
              "      border-color: transparent;\n",
              "      border-right-color: var(--fill-color);\n",
              "      border-bottom-color: var(--fill-color);\n",
              "    }\n",
              "    90% {\n",
              "      border-color: transparent;\n",
              "      border-bottom-color: var(--fill-color);\n",
              "    }\n",
              "  }\n",
              "</style>\n",
              "\n",
              "  <script>\n",
              "    async function quickchart(key) {\n",
              "      const quickchartButtonEl =\n",
              "        document.querySelector('#' + key + ' button');\n",
              "      quickchartButtonEl.disabled = true;  // To prevent multiple clicks.\n",
              "      quickchartButtonEl.classList.add('colab-df-spinner');\n",
              "      try {\n",
              "        const charts = await google.colab.kernel.invokeFunction(\n",
              "            'suggestCharts', [key], {});\n",
              "      } catch (error) {\n",
              "        console.error('Error during call to suggestCharts:', error);\n",
              "      }\n",
              "      quickchartButtonEl.classList.remove('colab-df-spinner');\n",
              "      quickchartButtonEl.classList.add('colab-df-quickchart-complete');\n",
              "    }\n",
              "    (() => {\n",
              "      let quickchartButtonEl =\n",
              "        document.querySelector('#df-b43bd6ee-3491-4a6c-88ff-768e9637f808 button');\n",
              "      quickchartButtonEl.style.display =\n",
              "        google.colab.kernel.accessAllowed ? 'block' : 'none';\n",
              "    })();\n",
              "  </script>\n",
              "</div>\n",
              "    </div>\n",
              "  </div>\n"
            ],
            "text/plain": [
              "            city   section                                            heading  \\\n",
              "0        chicago  for-sale                          madden nfl xbox brand new   \n",
              "1       paris.en   housing                                  looking room rent   \n",
              "2        newyork  for-sale                                         two d game   \n",
              "3        seattle   housing                                                map   \n",
              "4      singapore  services  good looking asian sensation aughty girl indep...   \n",
              "...          ...       ...                                                ...   \n",
              "15365    newyork  services  nissan ud isuzu npr fuso hino truck amp auto part   \n",
              "15366    seattle  for-sale                                                map   \n",
              "15367    seattle  services                   old school upholstery amp repair   \n",
              "15368    newyork  for-sale  lg super capacity cuft french door refrigerato...   \n",
              "15369    seattle  for-sale                   wii udraw pictionary udraw board   \n",
              "\n",
              "                 category  \n",
              "0             video-games  \n",
              "1               temporary  \n",
              "2              appliances  \n",
              "3          wanted-housing  \n",
              "4      household-services  \n",
              "...                   ...  \n",
              "15365          automotive  \n",
              "15366         photography  \n",
              "15367  household-services  \n",
              "15368         photography  \n",
              "15369         video-games  \n",
              "\n",
              "[15370 rows x 4 columns]"
            ]
          },
          "execution_count": 43,
          "metadata": {},
          "output_type": "execute_result"
        }
      ],
      "source": [
        "test_data"
      ]
    },
    {
      "cell_type": "code",
      "execution_count": null,
      "metadata": {
        "id": "iEDFGxV5-_uA"
      },
      "outputs": [],
      "source": []
    },
    {
      "cell_type": "code",
      "execution_count": null,
      "metadata": {
        "id": "l2VUhvCuObL_"
      },
      "outputs": [],
      "source": [
        "with open(\"label_encoder_category.pkl\", \"wb\") as e:\n",
        "  pickle.dump(label_encoder, e)"
      ]
    }
  ],
  "metadata": {
    "accelerator": "GPU",
    "colab": {
      "collapsed_sections": [
        "YOz2x8I9KzYf",
        "X-11h1ENKzYg",
        "6mrR78gaKzYh"
      ],
      "gpuType": "T4",
      "provenance": []
    },
    "kernelspec": {
      "display_name": "Python 3",
      "name": "python3"
    },
    "language_info": {
      "codemirror_mode": {
        "name": "ipython",
        "version": 3
      },
      "file_extension": ".py",
      "mimetype": "text/x-python",
      "name": "python",
      "nbconvert_exporter": "python",
      "pygments_lexer": "ipython3",
      "version": "3.9.6"
    }
  },
  "nbformat": 4,
  "nbformat_minor": 0
}
